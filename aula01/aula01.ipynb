{
 "cells": [
  {
   "cell_type": "markdown",
   "metadata": {},
   "source": [
    "## Preliminar: Jupyter notebook\n",
    "\n",
    "O jupyter notebook é uma interface mais amigável e flexível para o *prompt* tradicional do python.\n",
    "\n",
    "![Imagem](prompt.png)"
   ]
  },
  {
   "cell_type": "markdown",
   "metadata": {},
   "source": [
    "A interface do jupyter é organizada em células, em qual cada célula contém parte do código a ser rodado"
   ]
  },
  {
   "cell_type": "code",
   "execution_count": 2,
   "metadata": {},
   "outputs": [
    {
     "name": "stdout",
     "output_type": "stream",
     "text": [
      "célula 1\n",
      "Hello World!\n"
     ]
    }
   ],
   "source": [
    "print('célula 1')\n",
    "\n",
    "print('Hello World!')"
   ]
  },
  {
   "cell_type": "code",
   "execution_count": 3,
   "metadata": {},
   "outputs": [
    {
     "name": "stdout",
     "output_type": "stream",
     "text": [
      "Célula 2\n"
     ]
    }
   ],
   "source": [
    "print('Célula 2')"
   ]
  },
  {
   "cell_type": "markdown",
   "metadata": {},
   "source": [
    "Para rodar a célula, basta apertar shift + enter (roda e move para a próxima célula) ou alt + enter (roda e cria uma nova célula)"
   ]
  },
  {
   "cell_type": "markdown",
   "metadata": {},
   "source": [
    "# Curso de programação para juristas\n",
    "\n",
    "## Python\n",
    "\n",
    "### Vantagens\n",
    "\n",
    "Python é uma linguagem de alto nível com sintaxe *próxima* a linguagens naturais. Em python, operações que normalmente pareceriam \"estranhas\" em linguagens tradicionais, são facilmente compreensíveis.\n",
    "\n",
    "E.g. (java)\n",
    "```\n",
    "public class HelloWorld {\n",
    "\n",
    "    public static void main(String[] args) {\n",
    "        // Prints \"Hello, World\" to the terminal window.\n",
    "        System.out.println(\"Hello, World\");\n",
    "    }\n",
    "```\n",
    "\n",
    "Em python, esse código fica da seguinte maneira:"
   ]
  },
  {
   "cell_type": "code",
   "execution_count": 4,
   "metadata": {},
   "outputs": [
    {
     "name": "stdout",
     "output_type": "stream",
     "text": [
      "Hello, World!\n"
     ]
    }
   ],
   "source": [
    "print(\"Hello, World!\")"
   ]
  },
  {
   "cell_type": "markdown",
   "metadata": {},
   "source": [
    "## Abstração\n",
    "\n",
    "O \"alto nível\" se refere ao nível em relação a base mais concreta ― os bits (zeros e uns) que são diretamente processados pelo processador. Por esse motivo, em relação às linguagens de \"baixo nível\", ou mais *concretas*, python é uma linguagem *abstrata*."
   ]
  },
  {
   "cell_type": "markdown",
   "metadata": {},
   "source": [
    "## Tipos padrão\n",
    "\n",
    "\n",
    "### Strings\n",
    "```\n",
    "texto = \"We are the knights who say Ni!\"\n",
    "```\n",
    "https://www.youtube.com/watch?v=zIV4poUZAQo\n",
    "\n",
    "### Integer (números inteiros)\n",
    "```\n",
    "valor = 10\n",
    "\n",
    "novo_valor = valor + 10\n",
    "```\n",
    "\n",
    "### Float (números quebrados - decimais)\n",
    "\n",
    "```\n",
    "valor = 10.5\n",
    "\n",
    "novo_valor = valor + 0.5\n",
    "```\n",
    "\n",
    "### Booleanos \n",
    "\n",
    "```\n",
    "True\n",
    "False\n",
    "```\n",
    "Úteis para *if statement*.\n",
    "\n",
    "\n",
    "### Listas\n",
    "\n",
    "```\n",
    "spam_list = [\"HAM\", \"SPAM\", \"EGGS\", \"SPAM\", 10] \n",
    "```\n",
    "\n",
    "### Dicionários\n",
    "\n",
    "```\n",
    "breakfast_menu = {\n",
    "            'first_option': 'Spam',\n",
    "            'second_option': ['Spam', 'Ham'],\n",
    "            'third_option': 100 * ['Spam']\n",
    "}\n",
    "```\n",
    "\n",
    "### None\n",
    "```\n",
    "None\n",
    "```"
   ]
  },
  {
   "cell_type": "markdown",
   "metadata": {},
   "source": [
    "## Funções\n",
    "\n",
    "Funções em python, assim como na matemática, funcionam como uma \"Caxinha\" que recebe uma entrada e retorna um resultado. A entrada e a saída da função pode ser qualquer coisa, inclusive nada (None).\n",
    "\n",
    "![funcao](funcao.png)\n",
    "\n",
    "As funções são identificadas da seguinte forma:\n",
    "\n",
    "```\n",
    "exemplo_funcao(entrada)\n",
    "```\n",
    "\n",
    "Podemos definir nossas próprias funções da seguinte forma:\n",
    "\n",
    "```\n",
    "def exemplo_funcao(entrada):\n",
    "    bla bla\n",
    "    bla bla\n",
    "    return saída\n",
    "```"
   ]
  },
  {
   "cell_type": "markdown",
   "metadata": {},
   "source": [
    "## If/else Statements\n",
    "\n",
    "*If Statements* verificam afirmações e operações booleanas.\n",
    "\n",
    "e.g."
   ]
  },
  {
   "cell_type": "code",
   "execution_count": 5,
   "metadata": {},
   "outputs": [
    {
     "name": "stdout",
     "output_type": "stream",
     "text": [
      "É verdade!\n"
     ]
    }
   ],
   "source": [
    "if True:\n",
    "    print('É verdade!')"
   ]
  },
  {
   "cell_type": "code",
   "execution_count": 6,
   "metadata": {},
   "outputs": [
    {
     "name": "stdout",
     "output_type": "stream",
     "text": [
      "É mentira!\n"
     ]
    }
   ],
   "source": [
    "if False:\n",
    "    print('Olha a cobra!')\n",
    "else:\n",
    "    print('É mentira!')"
   ]
  },
  {
   "cell_type": "code",
   "execution_count": 7,
   "metadata": {},
   "outputs": [
    {
     "name": "stdout",
     "output_type": "stream",
     "text": [
      "Olha a cobra!\n"
     ]
    }
   ],
   "source": [
    "if True or False:\n",
    "    print('Olha a cobra!')\n",
    "else:\n",
    "    print('É mentira!')"
   ]
  },
  {
   "cell_type": "markdown",
   "metadata": {},
   "source": [
    "Em última análise, todas operações e tipos retornam *True* ou *False*, que é avaliada pelo if."
   ]
  },
  {
   "cell_type": "markdown",
   "metadata": {},
   "source": [
    "## For loops\n",
    "\n",
    "*For Loops* passam por cada elemento de uma lista e executam um bloco de código. e.g."
   ]
  },
  {
   "cell_type": "code",
   "execution_count": 8,
   "metadata": {},
   "outputs": [
    {
     "name": "stdout",
     "output_type": "stream",
     "text": [
      "HAM\n",
      "SPAM\n",
      "EGGS\n",
      "SPAM\n"
     ]
    }
   ],
   "source": [
    "spam_list = [\"HAM\", \"SPAM\", \"EGGS\", \"SPAM\"] \n",
    "\n",
    "for i in spam_list:\n",
    "    print(i)"
   ]
  },
  {
   "cell_type": "code",
   "execution_count": 9,
   "metadata": {},
   "outputs": [
    {
     "name": "stdout",
     "output_type": "stream",
     "text": [
      "SPAM!\n",
      "SPAM!\n",
      "SPAM!\n",
      "SPAM!\n",
      "SPAM!\n",
      "SPAM!\n",
      "SPAM!\n",
      "SPAM!\n",
      "SPAM!\n",
      "SPAM!\n"
     ]
    }
   ],
   "source": [
    "for i in range(0, 10):\n",
    "    print('SPAM!')"
   ]
  },
  {
   "cell_type": "code",
   "execution_count": 10,
   "metadata": {},
   "outputs": [
    {
     "name": "stdout",
     "output_type": "stream",
     "text": [
      "SPAM!!\n",
      "SPAM!!!\n",
      "SPAM!!!!\n",
      "SPAM!!!!!\n",
      "SPAM!!!!!!\n",
      "SPAM!!!!!!!\n",
      "SPAM!!!!!!!!\n",
      "SPAM!!!!!!!!!\n",
      "SPAM!!!!!!!!!!\n",
      "SPAM!!!!!!!!!!!\n"
     ]
    }
   ],
   "source": [
    "spam = \"SPAM!\"\n",
    "for i in range(0, 10):\n",
    "    spam = spam + \"!\"\n",
    "    print(spam)"
   ]
  },
  {
   "cell_type": "markdown",
   "metadata": {},
   "source": [
    "## EXERCÍCIO (10m)\n",
    "\n",
    "Brinquem com a lingugagem. Escrevam qualquer coisa e vejam o que dá certo.\n",
    "\n",
    "Tentem somar, diminuir, dividir e multiplicar os diversos tipos.\n",
    "\n",
    "e.g. \n",
    "\n",
    "*O que acontece quando eu somo uma string com um float?*\n",
    "\n"
   ]
  },
  {
   "cell_type": "markdown",
   "metadata": {},
   "source": [
    "## Métodos\n",
    "\n",
    "Os objetos em python podem ter **métodos**, que são (grossamente falando) funções embutidas nos objetos.\n",
    "\n",
    "e.g."
   ]
  },
  {
   "cell_type": "code",
   "execution_count": 11,
   "metadata": {
    "collapsed": true
   },
   "outputs": [],
   "source": [
    "monty = \"Nobody expects the Spanish Inquisition\""
   ]
  },
  {
   "cell_type": "code",
   "execution_count": 12,
   "metadata": {},
   "outputs": [
    {
     "data": {
      "text/plain": [
       "'nobody expects the spanish inquisition'"
      ]
     },
     "execution_count": 12,
     "metadata": {},
     "output_type": "execute_result"
    }
   ],
   "source": [
    "monty.lower()"
   ]
  },
  {
   "cell_type": "code",
   "execution_count": 13,
   "metadata": {},
   "outputs": [
    {
     "data": {
      "text/plain": [
       "'NOBODY EXPECTS THE SPANISH INQUISITION'"
      ]
     },
     "execution_count": 13,
     "metadata": {},
     "output_type": "execute_result"
    }
   ],
   "source": [
    "monty.upper()"
   ]
  },
  {
   "cell_type": "code",
   "execution_count": 14,
   "metadata": {},
   "outputs": [
    {
     "data": {
      "text/plain": [
       "'NOBODY EXPECTS THE SPANISH INQUISITION!!!!!!'"
      ]
     },
     "execution_count": 14,
     "metadata": {},
     "output_type": "execute_result"
    }
   ],
   "source": [
    "monty.upper() + \"!!!!!!\""
   ]
  },
  {
   "cell_type": "code",
   "execution_count": 15,
   "metadata": {},
   "outputs": [
    {
     "data": {
      "text/plain": [
       "'Nobody expects the Portuguese Inquisition'"
      ]
     },
     "execution_count": 15,
     "metadata": {},
     "output_type": "execute_result"
    }
   ],
   "source": [
    "monty.replace('Spanish', 'Portuguese')"
   ]
  },
  {
   "cell_type": "code",
   "execution_count": 16,
   "metadata": {},
   "outputs": [
    {
     "data": {
      "text/plain": [
       "['Nobody', 'expects', 'the', 'Spanish', 'Inquisition']"
      ]
     },
     "execution_count": 16,
     "metadata": {},
     "output_type": "execute_result"
    }
   ],
   "source": [
    "monty.split(' ')"
   ]
  },
  {
   "cell_type": "code",
   "execution_count": 17,
   "metadata": {},
   "outputs": [
    {
     "data": {
      "text/plain": [
       "'Nobody expects the Spanish Inquisition'"
      ]
     },
     "execution_count": 17,
     "metadata": {},
     "output_type": "execute_result"
    }
   ],
   "source": [
    "monty"
   ]
  },
  {
   "cell_type": "markdown",
   "metadata": {},
   "source": [
    "## Usando bibliotecas\n",
    "\n",
    "\"Bibliotecas\" ou \"módulos\" externos são cógido já escrito que podemos incluir em nosso próprio código. \n",
    "Uma das grandes vantagens de se utilizar python são essas \"bibliotecas, que são criadas para os mais diversos fins.\n",
    "\n",
    "Incluir uma biblioteca em nosso código é fácil. Basta digitar:\n",
    "\n",
    "```\n",
    "include nome_da_biblioteca\n",
    "```\n",
    "\n",
    "Usaremos a biblioteca string como exemplo. \n",
    "\n"
   ]
  },
  {
   "cell_type": "markdown",
   "metadata": {},
   "source": [
    "## EXERCÍCIO - Processamento de texto\n",
    "\n",
    "### Limpando o texto"
   ]
  },
  {
   "cell_type": "code",
   "execution_count": 18,
   "metadata": {},
   "outputs": [],
   "source": [
    "texto_cru = open('acordao_base.txt')"
   ]
  },
  {
   "cell_type": "code",
   "execution_count": 19,
   "metadata": {},
   "outputs": [],
   "source": [
    "texto = texto_cru.read()"
   ]
  },
  {
   "cell_type": "code",
   "execution_count": 20,
   "metadata": {
    "collapsed": true
   },
   "outputs": [],
   "source": [
    "texto = texto.lower()"
   ]
  },
  {
   "cell_type": "markdown",
   "metadata": {},
   "source": [
    "Com *replace*, podemos tirar todas as quebras de linha, representadas por '\\n'"
   ]
  },
  {
   "cell_type": "code",
   "execution_count": 21,
   "metadata": {
    "collapsed": true
   },
   "outputs": [],
   "source": [
    "texto = texto.replace('\\n', '')"
   ]
  },
  {
   "cell_type": "markdown",
   "metadata": {},
   "source": [
    "Com a biblioteca \"string\", podemos pegar todas as pontuações existentes, para então tirá-las do texto.\n",
    "\n",
    "Para pegar uma parte específica de uma biblioteca, podemos utilizar a seguinte estrutura:\n",
    "\n",
    "```\n",
    "from nome_da_biblioteca import parte_específica\n",
    "```\n",
    "\n",
    "E.g."
   ]
  },
  {
   "cell_type": "code",
   "execution_count": 22,
   "metadata": {
    "collapsed": true
   },
   "outputs": [],
   "source": [
    "from string import punctuation"
   ]
  },
  {
   "cell_type": "code",
   "execution_count": 23,
   "metadata": {},
   "outputs": [
    {
     "name": "stdout",
     "output_type": "stream",
     "text": [
      "!\"#$%&'()*+,-./:;<=>?@[\\]^_`{|}~\n"
     ]
    }
   ],
   "source": [
    "print(punctuation)"
   ]
  },
  {
   "cell_type": "markdown",
   "metadata": {},
   "source": [
    "Assim como uma lista, podemos passar por cada caracter de uma *string* com um *for loop*.\n",
    "\n",
    "Queremos tirar todas as pontuações do texto, como nós podemos fazer isso? \n",
    "*dica: para verificar se algum caractere está em \"punctionation\" podemos usar algo como \"if char in punction: ...\"*"
   ]
  },
  {
   "cell_type": "code",
   "execution_count": 24,
   "metadata": {
    "collapsed": true
   },
   "outputs": [],
   "source": [
    "novo_texto = \"\"\n",
    "for i in texto:\n",
    "    if i not in punctuation:\n",
    "        novo_texto = novo_texto + i\n",
    "    else:\n",
    "        novo_texto = novo_texto + ' '"
   ]
  },
  {
   "cell_type": "code",
   "execution_count": 25,
   "metadata": {
    "collapsed": true
   },
   "outputs": [],
   "source": [
    "novo_texto = novo_texto.replace('  ', ' ')"
   ]
  },
  {
   "cell_type": "markdown",
   "metadata": {},
   "source": [
    "Agora, precisamos transformar uma string em uma lista de palavras. O método \"split\", corta a *string* em cada espaço branco (\" \"): "
   ]
  },
  {
   "cell_type": "code",
   "execution_count": 26,
   "metadata": {
    "collapsed": true
   },
   "outputs": [],
   "source": [
    "lista_de_palavras = novo_texto.split()"
   ]
  },
  {
   "cell_type": "code",
   "execution_count": 27,
   "metadata": {},
   "outputs": [
    {
     "name": "stdout",
     "output_type": "stream",
     "text": [
      "['superior', 'tribunal', 'de', 'justiçaagint', 'no', 'agravo', 'em', 'recurso', 'especial', 'nº', '741', '519', 'df', '2015', '0166109', '5', 'relatoragravanteadvogadosagravadoadvogado', 'ministro', 'antonio', 'carlos', 'ferreira', 'esave', 'veículos', 'ltda', 'jonas', 'keslley', 'gonçalves', 'umbelino', 'df025661jecy', 'kenne', 'gonçalves', 'umbelino', 'e', 'outro', 's', 'df044340', 'ki', 'maquinas', 'industria', 'e', 'comercio', 'ltda', 'lincoln', 'de', 'oliveira', 'e', 'outro', 's', 'df007626ementaprocessual', 'civil', 'agravo', 'interno', 'no', 'agravo', 'em', 'recursoespecial', 'reintegração', 'de', 'posse', 'benfeitorias', 'indenizáveis', 'laudopericialhomologado', 'decisãodevidamentefundamentada', 'ausência', 'de', 'nulidade', 'reexame', 'do', 'conjuntofático', 'probatório', 'dos', 'autos', 'inadmissibilidade', 'incidênciada', 'súmula', 'n', '7', 'stj', 'decisão', 'mantida', '1', 'inexiste', 'afronta', 'aos', 'arts', '458', 'e', '535', 'do', 'cpc', '1973', 'quando', 'a', 'corte', 'localpronuncia', 'se', 'de', 'forma', 'clara', 'e', 'suficiente', 'acerca', 'das', 'questões', 'suscitadasnos', 'autos', 'manifestando', 'se', 'sobre', 'todos', 'os', 'argumentos', 'que', 'em', 'tese', 'poderiam', 'infirmar', 'a', 'conclusão', 'adotada', 'pelo', 'juízo', '2', 'o', 'recurso', 'especial', 'não', 'comporta', 'o', 'exame', 'de', 'questões', 'que', 'impliquemrevolvimento', 'do', 'contexto', 'fático', 'probatório', 'dos', 'autos', 'súmula', 'n', '7', 'do', 'stj', '3', 'no', 'caso', 'concreto', 'o', 'tribunal', 'de', 'origem', 'entendeu', 'não', 'existir', 'no', 'processonenhum', 'elemento', 'que', 'comprovasse', 'que', 'os', 'cálculos', 'do', 'perito', 'estivessemincorretos', 'razão', 'pela', 'qual', 'homologou', 'o', 'laudo', 'de', 'avaliação', 'de', 'benfeitoriasindenizáveis', 'alterar', 'esse', 'entendimento', 'demandaria', 'o', 'reexame', 'das', 'provasproduzidas', 'nos', 'autos', 'o', 'que', 'é', 'vedado', 'em', 'recurso', 'especial', '4', 'agravo', 'interno', 'a', 'que', 'se', 'nega', 'provimento', 'acórdãoa', 'quarta', 'turma', 'por', 'unanimidade', 'negou', 'provimento', 'ao', 'agravo', 'interno', 'nostermos', 'do', 'voto', 'do', 'sr', 'ministro', 'relator', 'os', 'srs', 'ministros', 'marco', 'buzzi', 'lázaro', 'guimarães', 'desembargador', 'convocado', 'do', 'trf', '5ª', 'região', 'luis', 'felipe', 'salomão', 'e', 'maria', 'isabel', 'gallottivotaram', 'com', 'o', 'sr', 'ministro', 'relator', 'brasília', 'df', '10', 'de', 'outubro', 'de', '2017', 'data', 'do', 'julgamento', 'ministro', 'antonio', 'carlos', 'ferreirarelatordocumento', '1645649', 'inteiro', 'teor', 'do', 'acórdão', 'site', 'certificado', 'dje', '17', '10', '2017página', '1', 'de', '10', 'superior', 'tribunal', 'de', 'justiçaagint', 'no', 'agravo', 'em', 'recurso', 'especial', 'nº', '741', '519', 'df', '2015', '0166109', '5', 'relatoragravanteadvogadosagravadoadvogado', 'ministro', 'antonio', 'carlos', 'ferreira', 'esave', 'veículos', 'ltda', 'jonas', 'keslley', 'gonçalves', 'umbelino', 'df025661jecy', 'kenne', 'gonçalves', 'umbelino', 'e', 'outro', 's', 'df044340', 'ki', 'maquinas', 'industria', 'e', 'comercio', 'ltda', 'lincoln', 'de', 'oliveira', 'e', 'outro', 's', 'df007626relatórioo', 'exmo', 'sr', 'ministro', 'antonio', 'carlos', 'ferreira', 'relator', 'trata', 'se', 'de', 'agravo', 'interno', 'e', 'stj', 'fls', '811', '812', 'contra', 'decisão', 'desta', 'relatoria', 'que', 'mantevea', 'inadmissibilidade', 'do', 'recurso', 'especial', 'neste', 'recurso', 'a', 'agravante', 'alega', 'que', 'o', 'acórdão', 'recorrido', 'está', 'em', 'verdade', 'com', 'amparo', 'em', 'especulações', 'teóricas', 'e', 'retóricas', 'negando', 'a', 'prestação', 'jurisdicionalbuscada', 'dês', 'a', 'primeira', 'instância', 'e', 'stj', 'fl', '811', 'entende', 'que', 'não', 'se', 'trata', 'de', 'reexame', 'deprova', 'e', 'sim', 'da', 'valoração', 'da', 'prova', 'que', 'não', 'ocorreu', 'de', 'maneira', 'adequada', 'razão', 'pelaqual', 'o', 'entendimento', 'pode', 'ser', 'alterado', 'sem', 'a', 'violação', 'do', 'teor', 'da', 'súm', '07', 'do', 'stj', 'e', 'stj', 'fl', '812', 'reitera', 'as', 'teses', 'defendidas', 'nos', 'recursos', 'anteriores', 'requerendo', 'a', 'reforma', 'dadecisão', 'que', 'homologou', 'laudo', 'de', 'avaliação', 'de', 'benfeitorias', 'em', 'área', 'particular', 'porque', 'nele', 'laudo', 'há', 'mensurações', 'de', 'benfeitorias', 'em', 'área', 'pública', 'ou', 'seja', 'porque', 'está', 'condenada', 'aindenizar', 'particular', 'agravada', 'por', 'benfeitorias', 'realizadas', 'em', 'área', 'pública', 'o', 'que', 'não', 'foi', 'nem', 'é', 'objeto', 'de', 'avaliação', 'no', 'processo', 'e', 'stj', 'fl', '811', 'ao', 'final', 'pede', 'a', 'reconsideração', 'da', 'decisão', 'monocrática', 'para', 'provimento', 'dorecurso', 'com', 'a', 'remessa', 'dos', 'autos', 'à', 'primeira', 'instância', 'para', 're', 'fazimento', 'de', 'avaliação', 'debenfeitorias', 'particulares', 'em', 'áreas', 'particulares', 'sem', 'avaliação', 'de', 'benfeitorias', 'particularesem', 'áreas', 'públicas', 'e', 'stj', 'fl', '812', 'a', 'agravada', 'não', 'apresentou', 'impugnação', 'e', 'stj', 'fl', '816', 'é', 'o', 'relatório', 'documento', '1645649', 'inteiro', 'teor', 'do', 'acórdão', 'site', 'certificado', 'dje', '17', '10', '2017página', '2', 'de', '10', 'superior', 'tribunal', 'de', 'justiçaagint', 'no', 'agravo', 'em', 'recurso', 'especial', 'nº', '741', '519', 'df', '2015', '0166109', '5', 'relatoragravanteadvogadosagravadoadvogado', 'ministro', 'antonio', 'carlos', 'ferreira', 'esave', 'veículos', 'ltda', 'jonas', 'keslley', 'gonçalves', 'umbelino', 'df025661jecy', 'kenne', 'gonçalves', 'umbelino', 'e', 'outro', 's', 'df044340', 'ki', 'maquinas', 'industria', 'e', 'comercio', 'ltda', 'lincoln', 'de', 'oliveira', 'e', 'outro', 's', 'df007626ementaprocessual', 'civil', 'agravo', 'interno', 'no', 'agravo', 'em', 'recursoespecial', 'reintegração', 'de', 'posse', 'benfeitorias', 'indenizáveis', 'laudopericialhomologado', 'decisãodevidamentefundamentada', 'ausência', 'de', 'nulidade', 'reexame', 'do', 'conjuntofático', 'probatório', 'dos', 'autos', 'inadmissibilidade', 'incidênciada', 'súmula', 'n', '7', 'stj', 'decisão', 'mantida', '1', 'inexiste', 'afronta', 'aos', 'arts', '458', 'e', '535', 'do', 'cpc', '1973', 'quando', 'a', 'corte', 'localpronuncia', 'se', 'de', 'forma', 'clara', 'e', 'suficiente', 'acerca', 'das', 'questões', 'suscitadasnos', 'autos', 'manifestando', 'se', 'sobre', 'todos', 'os', 'argumentos', 'que', 'em', 'tese', 'poderiam', 'infirmar', 'a', 'conclusão', 'adotada', 'pelo', 'juízo', '2', 'o', 'recurso', 'especial', 'não', 'comporta', 'o', 'exame', 'de', 'questões', 'que', 'impliquemrevolvimento', 'do', 'contexto', 'fático', 'probatório', 'dos', 'autos', 'súmula', 'n', '7', 'do', 'stj', '3', 'no', 'caso', 'concreto', 'o', 'tribunal', 'de', 'origem', 'entendeu', 'não', 'existir', 'no', 'processonenhum', 'elemento', 'que', 'comprovasse', 'que', 'os', 'cálculos', 'do', 'perito', 'estivessemincorretos', 'razão', 'pela', 'qual', 'homologou', 'o', 'laudo', 'de', 'avaliação', 'de', 'benfeitoriasindenizáveis', 'alterar', 'esse', 'entendimento', 'demandaria', 'o', 'reexame', 'das', 'provasproduzidas', 'nos', 'autos', 'o', 'que', 'é', 'vedado', 'em', 'recurso', 'especial', '4', 'agravo', 'interno', 'a', 'que', 'se', 'nega', 'provimento', 'documento', '1645649', 'inteiro', 'teor', 'do', 'acórdão', 'site', 'certificado', 'dje', '17', '10', '2017página', '3', 'de', '10', 'superior', 'tribunal', 'de', 'justiçaagint', 'no', 'agravo', 'em', 'recurso', 'especial', 'nº', '741', '519', 'df', '2015', '0166109', '5', 'relatoragravanteadvogadosagravadoadvogado', 'ministro', 'antonio', 'carlos', 'ferreira', 'esave', 'veículos', 'ltda', 'jonas', 'keslley', 'gonçalves', 'umbelino', 'df025661jecy', 'kenne', 'gonçalves', 'umbelino', 'e', 'outro', 's', 'df044340', 'ki', 'maquinas', 'industria', 'e', 'comercio', 'ltda', 'lincoln', 'de', 'oliveira', 'e', 'outro', 's', 'df007626votoo', 'exmo', 'sr', 'ministro', 'antonio', 'carlos', 'ferreira', 'relator', 'ainsurgência', 'não', 'merece', 'acolhida', 'a', 'agravante', 'não', 'trouxe', 'nenhum', 'argumento', 'capaz', 'de', 'afastar', 'os', 'termos', 'dadecisão', 'agravada', 'motivo', 'pelo', 'qual', 'deve', 'ser', 'mantida', 'por', 'seus', 'próprios', 'fundamentos', 'e', 'stjfls', '804', '808', 'trata', 'se', 'de', 'agravo', 'nos', 'próprios', 'autos', 'cpc', '1973', 'art', '544', 'contra', 'decisão', 'queinadmitiu', 'o', 'recurso', 'especial', 'sob', 'os', 'seguintes', 'fundamentos', 'e', 'stj', 'fls', '746', '748', 'a', 'inexistência', 'de', 'negativa', 'de', 'prestação', 'jurisdicional', 'e', 'b', 'falta', 'de', 'comprovação', 'dodissídio', 'jurisprudencial', 'por', 'ausência', 'de', 'similitude', 'fática', 'o', 'acórdão', 'do', 'tjdft', 'traz', 'a', 'seguinte', 'ementa', 'e', 'stj', 'fl', '661', 'agravo', 'interno', 'agravo', 'de', 'instrumento', 'manifestaimprocedência', 'manutenção', 'da', 'decisão', 'agravada', 'tendo', 'ojuízo', 'esclarecido', 'e', 'acatado', 'a', 'metodologia', 'utilizada', 'pelo', 'perito', 'descabe', 'falarem', 'falta', 'de', 'motivação', 'e', 'em', 'nulidade', 'da', 'decisão', 'que', 'homologou', 'o', 'laudopericial', 'ademais', 'a', 'mera', 'divergência', 'ou', 'insatisfação', 'quanto', 'aosesclarecimentos', 'prestados', 'pelo', 'perito', 'não', 'é', 'suficiente', 'para', 'impedir', 'ahomologação', 'do', 'laudo', 'por', 'fim', 'nos', 'termos', 'do', 'art', '130', 'do', 'código', 'deprocesso', 'civil', 'sendo', 'o', 'juiz', 'o', 'destinatário', 'final', 'da', 'prova', 'judicial', 'e', 'tendo', 'eleentendido', 'que', 'o', 'perito', 'respondeu', 'satisfatoriamente', 'a', 'todos', 'os', 'quesitosformulados', 'e', 'não', 'tendo', 'os', 'agravantes', 'produzido', 'prova', 'cabal', 'em', 'sentidocontrário', 'não', 'há', 'motivo', 'para', 'deferir', 'o', 'pleito', 'de', 'modificação', 'do', 'julgado', 'os', 'embargos', 'de', 'declaração', 'opostos', 'foram', 'rejeitados', 'e', 'stj', 'fls', '679', '684', 'nas', 'razões', 'do', 'recurso', 'especial', 'e', 'stj', 'fls', '668', '720', 'interposto', 'com', 'fundamento', 'noart', '105', 'iii', 'alíneas', 'a', 'e', 'c', 'da', 'cf', 'a', 'recorrente', 'sustentou', 'além', 'de', 'dissídiojurisprudencial', 'violação', 'dos', 'arts', '131', '165', '458', 'i', 'e', '535', 'ii', 'do', 'cpc', '1973', 'e', '93', 'ix', 'dacf', 'argumentando', 'que', 'o', 'acórdão', 'recorrido', 'teria', 'se', 'omitido', 'sobre', 'i', 'supostaconfissão', 'do', 'expert', 'a', 'respeito', 'da', 'ausência', 'de', 'conhecimentos', 'técnicos', 'para', 'definirquais', 'benfeitorias', 'seriam', 'indenizáveis', 'inclusive', 'se', 'tal', 'obrigação', 'existiria', 'em', 'relaçãoàquelas', 'levantadas', 'em', 'área', 'pública', 'ii', 'as', 'razões', 'por', 'que', 'se', 'acataram', 'as', 'conclusõesdo', 'laudo', 'pericial', 'quanto', 'aos', 'valores', 'de', 'benfeitorias', 'construídas', 'pela', 'recorrida', 'e', 'iii', 'possível', 'descumprimento', 'das', 'diretrizes', 'da', 'abnt', 'durante', 'a', 'confecção', 'do', 'laudo', 'porausência', 'de', 'definição', 'de', 'metodologia', 'falta', 'de', 'pesquisa', 'de', 'preços', 'cálculos', 'e', 'deespecificação', 'dos', 'montantes', 'finais', 'obtidos', 'nesse', 'contexto', 'requereu', 'a', 'anulação', 'do', 'acórdão', 'recorrido', 'ou', 'alternativamente', 'arevaloração', 'da', 'perícia', 'para', 'rever', 'o', 'valor', 'do', 'cub', 'm²', 'e', 'limitar', 'o', 'montanteindenizatório', 'contrarrazões', 'e', 'stj', 'fls', '732', '744', 'no', 'agravo', 'e', 'stj', 'fls', '749', '779', 'afirma', 'a', 'presença', 'de', 'todos', 'os', 'requisitos', 'deadmissibilidade', 'do', 'especial', 'foi', 'apresentada', 'contraminuta', 'e', 'stj', 'fls', '783', '794', 'é', 'o', 'relatório', 'documento', '1645649', 'inteiro', 'teor', 'do', 'acórdão', 'site', 'certificado', 'dje', '17', '10', '2017página', '4', 'de', '10', 'superior', 'tribunal', 'de', 'justiçadecido', 'o', 'recurso', 'especial', 'e', 'o', 'agravo', 'foram', 'interpostos', 'com', 'fundamento', 'no', 'código', 'deprocesso', 'civil', 'de', '1973', 'motivo', 'por', 'que', 'devem', 'ser', 'exigidos', 'os', 'requisitos', 'deadmissibilidade', 'recursal', 'na', 'forma', 'nele', 'prevista', 'com', 'as', 'interpretações', 'dadas', 'pelajurisprudência', 'desta', 'corte', 'enunciado', 'administrativo', 'n', '2', 'stj', 'inviável', 'a', 'análise', 'de', 'ofensa', 'a', 'dispositivos', 'constitucionais', 'em', 'sede', 'de', 'recursoespecial', 'sob', 'pena', 'de', 'usurpação', 'da', 'competência', 'da', 'suprema', 'corte', 'a', 'propósito', 'agravo', 'interno', 'em', 'recurso', 'especial', 'ação', 'cautelar', 'deexibição', 'de', 'documentos', 'decisão', 'monocrática', 'negandoprovimento', 'ao', 'reclamo', 'insurgência', 'recursal', 'do', 'autor', '1', 'não', 'cabe', 'a', 'esta', 'corte', 'em', 'sede', 'de', 'recurso', 'especial', 'examinar', 'violaçãode', 'dispositivos', 'constitucionais', 'tendo', 'em', 'vista', 'que', 'a', 'constituição', 'federalreservou', 'tal', 'competência', 'ao', 'pretório', 'excelso', 'no', 'âmbito', 'do', 'recursoextraordinário', 'precedentes', '2', 'o', 'insurgente', 'não', 'rebateu', 'de', 'forma', 'específica', 'a', 'fundamentação', 'adotadapelo', 'tribunal', 'estadual', 'a', 'discrepância', 'entre', 'as', 'razões', 'recursais', 'e', 'ofundamento', 'do', 'acórdão', 'recorrido', 'obsta', 'o', 'conhecimento', 'do', 'recursoespecial', 'ante', 'a', 'incidência', 'da', 'súmula', 'n', '283', 'e', 'da', 'súmula', 'n', '284', 'do', 'stf', 'precedentes', '3', 'agravo', 'interno', 'desprovido', 'agint', 'no', 'resp', 'n', '1', '542', '764', 'pr', 'relator', 'ministro', 'marco', 'buzzi', 'quartaturma', 'julgado', 'em', '15', '9', '2016', 'dje', '22', '9', '2016', 'no', 'que', 'se', 'refere', 'à', 'alegada', 'negativa', 'de', 'prestação', 'jurisdicional', 'não', 'assiste', 'razão', 'àrecorrente', 'uma', 'vez', 'que', 'o', 'tribunal', 'a', 'quo', 'decidiu', 'a', 'matéria', 'controvertida', 'nãoincorrendo', 'em', 'omissão', 'contradição', 'ou', 'obscuridade', 'com', 'relação', 'à', 'suposta', 'falta', 'de', 'fundamentação', 'dos', 'motivos', 'pelos', 'quais', 'o', 'magistradode', 'primeira', 'instância', 'teria', 'acatado', 'as', 'conclusões', 'do', 'laudo', 'pericial', 'de', 'valores', 'deindenização', 'das', 'benfeitorias', 'levantadas', 'pela', 'recorrida', 'e', 'quanto', 'à', 'sistemáticaempregada', 'pelo', 'expert', 'o', 'aresto', 'recorrido', 'assentou', 'que', 'e', 'stj', 'fls', '664', '665', 'após', 'analise', 'das', 'razoes', 'do', 'agravo', 'interno', 'verifico', 'que', 'não', 'prospera', 'oinconformismo', 'do', 'recorrente', 'que', 'não', 'traz', 'argumento', 'novo', 'apto', 'a', 'infirmar', 'adecisão', 'agravada', 'razão', 'pela', 'qual', 'submeto', 'a', 'decisão', 'impugnada', 'aoreferendo', 'desta', 'e', 'sexta', 'turma', 'nos', 'seus', 'exatos', 'fundamentos', 'os', 'quaistranscrevo', 'na', 'formação', 'destes', 'custos', 'veiculados', 'pela', 'requerente', 'em', 'sua', 'peça', 'deimpugnação', 'unitários', 'básicos', 'não', 'foram', 'considerados', 'os', 'seguintes', 'itens', 'que', 'devem', 'ser', 'levados', 'em', 'conta', 'na', 'determinação', 'dos', 'preços', 'por', 'metroquadrado', 'de', 'construção', 'de', 'acordo', 'com', 'o', 'estabelecido', 'no', 'projeto', 'eespecificações', 'correspondentes', 'a', 'cada', 'caso', 'particular', 'fundações', 'submuramentos', 'paredes', 'diagragma', 'tirantes', 'rebaixamento', 'de', 'lençolfreático', 'elevadores', 'equipamentos', 'e', 'instalações', 'tais', 'como', 'fogões', 'aquecedores', 'bombas', 'de', 'recalque', 'incineração', 'e', 'ar', 'condicionado', 'calefação', 'ventilação', 'e', 'exaustão', 'outros', 'playground', 'quando', 'não', 'classificado', 'comoárea', 'construída', 'obras', 'e', 'serviços', 'complementares', 'urbanização', 'recreação', 'piscinas', 'campos', 'de', 'esporte', 'ajardinamento', 'instalação', 'e', 'regulamentaçãodo', 'condomínio', 'e', 'outros', 'serviços', 'impostos', 'taxas', 'e', 'emolumentos', 'cartoriais', 'projetos', 'projetos', 'arquitetônicos', 'projeto', 'estrutural', 'projeto', 'de', 'instalação', 'projetos', 'especiais', 'remuneração', 'do', 'construtor', 'remuneração', 'doincorporador', 'fls', '524', '525', 'esclareceu', 'ainda', 'o', 'digno', 'perito', 'que', 'o', 'valorindicado', 'no', 'seu', 'lado', 'tomou', 'por', 'parâmetro', 'a', 'média', 'dos', 'preços', 'praticadosno', 'mercado', 'ante', 'o', 'exposto', 'homologo', 'o', 'laudo', 'de', 'avaliação', 'às', 'fls', '465', '482', 'ora', 'o', 'não', 'acolhimento', 'da', 'pretensão', 'da', 'parte', 'autora', 'não', 'significa', 'falta', 'demotivação', 'tendo', 'o', 'juízo', 'esclarecido', 'e', 'acatado', 'a', 'metodologia', 'utilizada', 'pelodocumento', '1645649', 'inteiro', 'teor', 'do', 'acórdão', 'site', 'certificado', 'dje', '17', '10', '2017página', '5', 'de', '10', 'superior', 'tribunal', 'de', 'justiçaperito', 'descabe', 'falar', 'em', 'falta', 'de', 'motivação', 'e', 'em', 'nulidade', 'da', 'decisão', 'porsua', 'vez', 'a', 'impugnação', 'ao', 'laudo', 'pericial', 'foi', 'acompanhada', 'exclusivamente', 'de', 'planilha', 'orçamentária', 'de', 'contestação', 'sem', 'qualquer', 'objeção', 'específicae', 'fundamentada', 'contra', 'a', 'manifestação', 'do', 'expert', 'judicial', 'e', 'de', 'tabela', 'decusto', 'unitário', 'básico', 'cub', 'm2', 'para', 'o', 'mês', 'de', 'maio', 'de', '2013', 'no', 'distritofederal', 'fls', '531', '537', 'ou', 'seja', 'não', 'há', 'nenhuma', 'comprovação', 'de', 'que', 'oscálculos', 'do', 'perito', 'estivessem', 'incorretos', 'mas', 'tão', 'somente', 'meroinconformismo', 'sem', 'fundamento', 'com', 'o', 'laudo', 'apresentado', 'entende', 'essac', 'corte', 'de', 'justiça', 'que', 'a', 'mera', 'divergência', 'ou', 'insatisfação', 'quanto', 'aosesclarecimentos', 'prestados', 'pelo', 'perito', 'não', 'é', 'suficiente', 'para', 'impedir', 'ahomologação', 'do', 'laudo', 'pericial', 'a', 'delimitação', 'de', 'quais', 'benfeitorias', 'seriam', 'indenizáveis', 'e', 'o', 'possível', 'descumprimentodas', 'diretrizes', 'da', 'abnt', 'durante', 'a', 'confecção', 'do', 'laudo', 'pericial', 'também', 'foramenfrentados', 'pela', 'corte', 'de', 'origem', 'nos', 'seguintes', 'termos', 'e', 'stj', 'fls', '667', '668', 'em', 'suas', 'razões', 'recursais', 'insiste', 'o', 'agravante', 'em', 'defender', 'que', 'a', 'decisãoagravada', 'é', 'nula', 'por', 'deficiência', 'na', 'fundamentação', 'insiste', 'também', 'ematacar', 'o', 'laudo', 'pericial', 'homologado', 'pelo', 'juízo', 'a', 'quo', 'além', 'do', 'perito', 'quetrabalhou', 'na', 'causa', 'afirmando', 'que', 'o', 'laudo', 'não', 'obedeceu', 'às', 'regras', 'daabnt', 'e', 'que', 'o', 'perito', 'não', 'é', 'digno', 'de', 'confiança', 'porque', 'teria', 'afirmado', 'serquestão', 'de', 'direito', 'definir', 'o', 'que', 'seria', 'benfeitoria', 'indenizável', 'no', 'entanto', 'como', 'bem', 'consignado', 'na', 'decisão', 'agravada', 'o', 'não', 'acolhimentoda', 'pretensão', 'da', 'parte', 'autora', 'não', 'significa', 'falta', 'de', 'motivação', 'é', 'importante', 'lembrar', 'que', 'após', 'o', 'oferecimento', 'da', 'impugnação', 'ao', 'laudopericial', 'pela', 'ora', 'agravante', 'fls', '531', '548', 'o', 'd', 'perito', 'se', 'manifestou', 'sobre', 'aimpugnação', 'fls', '551', '552', 'mantendo', 'o', 'laudo', 'pericial', 'anteriormenteapresentado', 'e', 'justificando', 'as', 'conclusões', 'adotadas', 'no', 'referido', 'documento', 'nesse', 'sentido', 'tendo', 'o', 'juízo', 'a', 'quo', 'acatado', 'a', 'metodologia', 'utilizada', 'peloperito', 'e', 'concordado', 'com', 'as', 'suas', 'conclusões', 'e', 'esclarecimentos', 'descabefalar', 'em', 'falta', 'de', 'motivação', 'e', 'em', 'nulidade', 'da', 'decisão', 'com', 'relação', 'à', 'crítica', 'endereçada', 'ao', 'perito', 'e', 'ao', 'laudo', 'por', 'ele', 'formulado', 'esta', 'corte', 'tem', 'entendimento', 'consolidado', 'no', 'sentido', 'de', 'que', 'a', 'meradivergência', 'ou', 'insatisfação', 'quanto', 'aos', 'esclarecimentos', 'prestados', 'peloperito', 'não', 'é', 'suficiente', 'para', 'impedir', 'a', 'homologação', 'do', 'laudo', 'pericial', 'ademais', 'a', 'impugnação', 'ao', 'laudo', 'pericial', 'foi', 'acompanhada', 'exclusivamente', 'de', 'planilha', 'orçamentária', 'de', 'contestação', 'sem', 'qualquer', 'objeção', 'específicae', 'fundamentada', 'contra', 'a', 'manifestação', 'do', 'expert', 'judicial', 'e', 'de', 'tabela', 'decusto', 'unitário', 'básico', 'cub', 'm2', 'para', 'o', 'mês', 'de', 'maio', 'de', '2013', 'no', 'distritofederal', 'fls', '531', '537', 'ou', 'seja', 'não', 'há', 'nenhuma', 'comprovação', 'de', 'que', 'oscálculos', 'do', 'perito', 'estivessem', 'incorretos', 'mas', 'tão', 'somente', 'meroinconformismo', 'sem', 'fundamento', 'com', 'd', 'laudo', 'apresentado', 'ressalte', 'se', 'que', 'o', 'fato', 'de', 'tribunal', 'de', 'origem', 'julgar', 'contrariamente', 'aos', 'interesses', 'daparte', 'não', 'caracteriza', 'nenhum', 'dos', 'vícios', 'elencados', 'no', 'art', '535', 'do', 'cpc', '1973', 'tampouco', 'hipótese', 'de', 'cabimento', 'dos', 'aclaratórios', 'no', 'mais', 'a', 'corte', 'local', 'soberana', 'na', 'análise', 'do', 'material', 'cognitivo', 'dos', 'autos', 'concluiuque', 'inexistiriam', 'os', 'vícios', 'alegados', 'pela', 'parte', 'na', 'confecção', 'do', 'laudo', 'pericial', 'motivopor', 'que', 'seria', 'suficiente', 'para', 'dirimir', 'a', 'controvérsia', 'conforme', 'se', 'depreende', 'dostrechos', 'citados', 'anteriormente', 'para', 'dissentir', 'de', 'tal', 'entendimento', 'seria', 'imprescindível', 'o', 'reexame', 'do', 'acervofático', 'probatório', 'dos', 'autos', 'previdência', 'vedada', 'na', 'instância', 'especial', 'a', 'o', 'teor', 'dasúmula', 'n', '7', 'tj', 'a', 'propósito', 'agravo', 'regimental', 'no', 'agravo', 'em', 'recurso', 'especial', 'matéria', 'constitucional', 'impossibilidadedeexame', 'nulidade', 'do', 'julgado', 'em', 'virtude', 'do', 'indeferimento', 'dedocumento', '1645649', 'inteiro', 'teor', 'do', 'acórdão', 'site', 'certificado', 'dje', '17', '10', '2017página', '6', 'de', '10', 'superior', 'tribunal', 'de', 'justiçacomplementação', 'ao', 'laudo', 'pericial', 'revisão', 'súmula', 'n', '7', 'stj', 'danos', 'morais', 'e', 'estéticos', 'matéria', 'que', 'demanda', 'reexamefático', 'probatório', 'incidência', 'da', 'súmula', 'n', '7', 'desta', 'corte', 'divergência', 'jurisprudencial', 'não', 'comprovada', 'agravoregimental', 'não', 'provido', '2', 'quanto', 'ao', 'pedido', 'de', 'reconhecimento', 'de', 'nulidade', 'do', 'julgado', 'emvirtude', 'do', 'indeferimento', 'de', 'complementação', 'ao', 'laudo', 'pericial', 'verifica', 'se', 'que', 'rever', 'a', 'conclusão', 'do', 'tribunal', 'a', 'quo', 'quanto', 'ao', 'tema', 'exigiriaa', 'reapreciação', 'do', 'conjunto', 'probatório', 'o', 'que', 'seria', 'vedado', 'em', 'recursoespecial', 'ante', 'o', 'teor', 'da', 'súmula', 'n', '7', 'stj', '5', 'agravo', 'regimental', 'não', 'provido', 'agrg', 'no', 'aresp', 'n', '839', '952', 'sp', 'relator', 'ministro', 'luis', 'felipe', 'salomão', 'quarta', 'turma', 'julgado', 'em', '15', '3', '2016', 'dje', '21', '3', '2016', 'agravo', 'regimental', 'no', 'recurso', 'especial', 'execução', 'portítulo', 'extrajudicial', 'impugnação', 'à', 'adjudicação', 'do', 'imóveldado', 'em', 'garantia', '1', 'omissão', 'do', 'acórdão', 'recorrido', 'inexistência', '2', 'alegação', 'quanto', 'à', 'necessidade', 'de', 'novaavaliação', 'art', '683', 'do', 'cpc', 'conclusão', 'do', 'tribunal', 'deorigemfundadanaanálisedascircunstânciasfático', 'probatórias', 'da', 'causa', 'reexame', 'de', 'provas', 'descabimento', 'súmula', 'n', '7', 'stj', '3', 'dissídio', 'jurisprudencial', 'nãocaracterizado', '4', 'ofensa', 'a', 'dispositivos', 'da', 'constituiçãofederal', 'descabimento', '5', 'recurso', 'desprovido', '1', 'consoante', 'dispõe', 'o', 'art', '535', 'do', 'cpc', 'destinam', 'se', 'os', 'embargos', 'dedeclaração', 'a', 'expungir', 'do', 'julgado', 'eventuais', 'omissão', 'obscuridade', 'oucontradição', 'não', 'se', 'caracterizando', 'via', 'própria', 'ao', 'rejulgamento', 'da', 'causa', '2', 'no', 'caso', 'verifica', 'se', 'que', 'a', 'conclusão', 'do', 'tribunal', 'de', 'origem', 'acerca', 'daobservância', 'das', 'normas', 'técnicas', 'de', 'elaboração', 'do', 'laudo', 'de', 'avaliação', 'e', 'consequentemente', 'pela', 'desnecessidade', 'da', 'realização', 'de', 'nova', 'perícia', 'cpc', 'art', '683', 'decorreu', 'da', 'análise', 'das', 'circunstâncias', 'fático', 'probatórias', 'dacausa', 'cujo', 'reexame', 'é', 'vedado', 'em', 'âmbito', 'de', 'recurso', 'especial', 'ante', 'o', 'óbiceda', 'súmula', 'n', '7', 'desta', 'corte', '5', 'agravo', 'regimental', 'a', 'que', 'se', 'nega', 'provimento', 'agrg', 'no', 'resp', 'n', '1', '401', '731', 'mg', 'relator', 'ministro', 'marco', 'auréliobellizze', 'terceira', 'turma', 'julgado', 'em', '22', '9', '2015', 'dje', '9', '10', '2015', 'agravo', 'regimental', 'no', 'agravo', 'em', 'recurso', 'especial', 'recurso', 'manejado', 'sob', 'a', 'égide', 'do', 'cpc', '73', 'açãoindenizatória', 'locação', 'de', 'bem', 'móvel', 'procedência', 'alegação', 'de', 'violação', 'do', 'art', '535', 'e', '435', 'do', 'cpc', '73', 'inexistência', 'indeferimento', 'de', 'oitiva', 'em', 'audiência', 'doperito', 'judicial', 'e', 'nova', 'perícia', 'cerceamento', 'de', 'defesa', 'acórdão', 'recorrido', 'apoiado', 'nas', 'premissas', 'fáticasconstantes', 'dos', 'autos', 'impossibilidade', 'de', 'sua', 'revisão', 'navia', 'especial', 'aplicação', 'da', 'súmula', 'n', '7', 'do', 'stj', 'agravoregimental', 'não', 'provido', '3', 'o', 'cerceamento', 'de', 'defesa', 'sustentado', 'na', 'ausência', 'de', 'realização', 'de', 'oitivado', 'perito', 'em', 'audiência', 'e', 'no', 'indeferimento', 'de', 'realização', 'de', 'nova', 'períciatécnica', 'foi', 'afastado', 'pelo', 'juiz', 'destinatário', 'da', 'prova', 'com', 'respaldo', 'nasuficiência', 'das', 'provas', 'já', 'coligidas', 'aos', 'autos', 'de', 'forma', 'que', 'a', 'sua', 'revisão', 'navia', 'especial', 'é', 'obstada', 'pela', 'súmula', 'n', '7', 'desta', 'corte', '4', 'agravo', 'regimental', 'não', 'provido', 'documento', '1645649', 'inteiro', 'teor', 'do', 'acórdão', 'site', 'certificado', 'dje', '17', '10', '2017página', '7', 'de', '10', 'superior', 'tribunal', 'de', 'justiça', 'agrg', 'no', 'aresp', 'n', '595', '723', 'sp', 'relator', 'ministro', 'moura', 'ribeiro', 'terceira', 'turma', 'julgado', 'em', '24', '5', '2016', 'dje', '1', '6', '2016', 'para', 'a', 'acolher', 'os', 'pedidos', 'de', 'revisão', 'do', 'valor', 'do', 'cub', 'm²', 'e', 'da', 'limitação', 'do', 'montanteindenizatório', 'seria', 'necessária', 'nova', 'incursão', 'no', 'conjunto', 'fático', 'probatório', 'dos', 'autos', 'aatrair', 'a', 'incidência', 'da', 'súmula', 'n', '7', 'stj', 'o', 'conhecimento', 'do', 'recurso', 'especial', 'interposto', 'com', 'fundamento', 'na', 'alínea', 'c', 'dopermissivo', 'constitucional', 'exige', 'além', 'da', 'indicação', 'do', 'dispositivo', 'legal', 'objeto', 'deinterpretação', 'divergente', 'a', 'demonstração', 'do', 'dissídio', 'mediante', 'a', 'verificação', 'dascircunstâncias', 'que', 'assemelhem', 'ou', 'identifiquem', 'os', 'casos', 'confrontados', 'e', 'arealização', 'do', 'cotejo', 'analítico', 'entre', 'elas', 'nos', 'termos', 'definidos', 'pelos', 'arts', '255', '§§', '1ºe', '2º', 'do', 'ristj', 'e', '541', 'parágrafo', 'único', 'do', 'cpc', '1973', 'ônus', 'do', 'quais', 'a', 'recorrente', 'nãose', 'desincumbiu', 'ante', 'o', 'exposto', 'não', 'conheço', 'do', 'agravo', 'em', 'recurso', 'especial', 'publique', 'se', 'e', 'intimem', 'se', 'de', 'início', 'ressalte', 'se', 'que', 'a', 'recorrente', 'não', 'se', 'insurgiu', 'contra', 'o', 'fundamentoda', 'decisão', 'agravada', 'de', 'inadequação', 'do', 'recurso', 'especial', 'para', 'análise', 'de', 'dispositivosconstitucionais', 'ficando', 'portanto', 'preclusa', 'a', 'respectiva', 'matéria', 'além', 'disso', 'conforme', 'exposto', 'na', 'decisão', 'agravada', 'a', 'corte', 'localpronunciou', 'se', 'de', 'forma', 'clara', 'e', 'suficiente', 'acerca', 'das', 'questões', 'suscitadas', 'nos', 'autos', 'manifestando', 'se', 'sobre', 'todos', 'os', 'argumentos', 'que', 'em', 'tese', 'poderiam', 'infirmar', 'a', 'conclusãoadotada', 'pelo', 'juízo', 'o', 'tjdft', 'com', 'base', 'no', 'contexto', 'fático', 'probatório', 'dos', 'autos', 'manteve', 'adecisão', 'que', 'homologou', 'o', 'laudo', 'pericial', 'por', 'considerar', 'que', 'a', 'impugnação', 'apresentada', 'pelaora', 'agravante', 'restringiu', 'se', 'a', 'apresentar', 'planilha', 'orçamentária', 'de', 'contestação', 'semobjeção', 'específica', 'e', 'fundamentada', 'que', 'comprovasse', 'que', 'os', 'cálculos', 'do', 'perito', 'estivessemincorretos', 'e', 'stj', 'fl', '635', 'o', 'colegiado', 'estadual', 'concluiu', 'que', 'a', 'mera', 'divergência', 'ouinsatisfação', 'quanto', 'aos', 'esclarecimentos', 'prestados', 'pelo', 'perito', 'não', 'é', 'suficiente', 'para', 'impedira', 'homologação', 'do', 'laudo', 'pericial', 'e', 'stj', 'fl', '635', 'entender', 'de', 'modo', 'contrário', 'implicaria', 'nova', 'incursão', 'nos', 'elementos', 'de', 'fatodo', 'processo', 'o', 'que', 'é', 'incabível', 'no', 'especial', 'a', 'teor', 'da', 'súmula', 'n', '7', 'do', 'stj', 'além', 'dosprecedentes', 'citados', 'na', 'decisão', 'monocrática', 'confira', 'se', 'o', 'seguinte', 'julgado', 'agravo', 'regimental', 'em', 'recurso', 'especial', 'agravo', 'de', 'instrumento', 'perícia', 'imóvel', 'laudo', 'de', 'avaliação', 'perito', 'oficial', 'nova', 'avaliação', 'desnecessidade', 'acórdão', 'fundado', 'nos', 'elementos', 'fáticos', 'dosautos', 'incidência', 'da', 'súmula', 'n', '7', 'mera', 'repetição', 'dos', 'argumentos', 'dorecurso', 'especial', 'nas', 'razões', 'recursais', '1', 'acórdão', 'fundado', 'nos', 'elementos', 'fáticos', 'ao', 'firmar', 'a', 'conclusão', 'acerca', 'dadesnecessidade', 'de', 'novo', 'laudo', 'pericial', 'o', 'tribunal', 'recorrido', 'tomou', 'em', 'consideraçãoos', 'elementos', 'fáticos', 'carreados', 'aos', 'autos', 'incidência', 'da', 'súmula', 'n', '07', 'stj', '2', 'na', 'ausência', 'de', 'qualquer', 'subsídio', 'capaz', 'de', 'alterá', 'los', 'deve', 'a', 'decisão', 'recorrida', 'sermantida', 'pelos', 'próprios', 'fundamentos', '3', 'agravo', 'regimental', 'não', 'provido', 'agrg', 'no', 'resp', '1', '170', '691', 'relator', 'ministro', 'luisfelipe', 'salomão', 'quarta', 'turma', 'julgado', 'em', '21', '3', '2013', 'dje', '26', '3', '2013', 'assim', 'não', 'prosperam', 'as', 'alegações', 'constantes', 'no', 'recurso', 'incapazes', 'dealterar', 'os', 'fundamentos', 'da', 'decisão', 'impugnada', 'documento', '1645649', 'inteiro', 'teor', 'do', 'acórdão', 'site', 'certificado', 'dje', '17', '10', '2017página', '8', 'de', '10', 'superior', 'tribunal', 'de', 'justiçadiante', 'do', 'exposto', 'nego', 'provimento', 'ao', 'agravo', 'interno', 'é', 'como', 'voto', 'documento', '1645649', 'inteiro', 'teor', 'do', 'acórdão', 'site', 'certificado', 'dje', '17', '10', '2017página', '9', 'de', '10', 'superior', 'tribunal', 'de', 'justiçacertidão', 'de', 'julgamentoquarta', 'turmaagint', 'noprocesso', 'eletrônico', 'aresp', '741', '519', 'dfnúmero', 'registro', '2015', '0166109', '5números', 'origem', '00325430220148070000', '00330748820148070000', '20090110083168', '2014002032543720140020325437ags', '325430220148070000pauta', '10', '10', '2017julgado', '10', '10', '2017relatorexmo', 'sr', 'ministro', 'antonio', 'carlos', 'ferreirapresidente', 'da', 'sessãoexmo', 'sr', 'ministro', 'antonio', 'carlos', 'ferreirasubprocurador', 'geral', 'da', 'repúblicaexmo', 'sr', 'dr', 'marcelo', 'moscogliatosecretáriadra', 'teresa', 'helena', 'da', 'rocha', 'baseviautuaçãoagravanteadvogadosagravadoadvogado', 'esave', 'veículos', 'ltda', 'jonas', 'keslley', 'gonçalves', 'umbelino', 'df025661jecy', 'kenne', 'gonçalves', 'umbelino', 'e', 'outro', 's', 'df044340', 'ki', 'maquinas', 'industria', 'e', 'comercio', 'ltda', 'lincoln', 'de', 'oliveira', 'e', 'outro', 's', 'df007626assunto', 'direito', 'civil', 'coisas', 'posse', 'imissãoagravo', 'internoagravanteadvogadosagravadoadvogado', 'esave', 'veículos', 'ltda', 'jonas', 'keslley', 'gonçalves', 'umbelino', 'df025661jecy', 'kenne', 'gonçalves', 'umbelino', 'e', 'outro', 's', 'df044340', 'ki', 'maquinas', 'industria', 'e', 'comercio', 'ltda', 'lincoln', 'de', 'oliveira', 'e', 'outro', 's', 'df007626certidãocertifico', 'que', 'a', 'egrégia', 'quarta', 'turma', 'ao', 'apreciar', 'o', 'processo', 'em', 'epígrafe', 'na', 'sessãorealizada', 'nesta', 'data', 'proferiu', 'a', 'seguinte', 'decisão', 'a', 'quarta', 'turma', 'por', 'unanimidade', 'negou', 'provimento', 'ao', 'agravo', 'interno', 'nos', 'termos', 'dovoto', 'do', 'sr', 'ministro', 'relator', 'os', 'srs', 'ministros', 'marco', 'buzzi', 'lázaro', 'guimarães', 'desembargador', 'convocado', 'do', 'trf', '5ªregião', 'luis', 'felipe', 'salomão', 'e', 'maria', 'isabel', 'gallotti', 'votaram', 'com', 'o', 'sr', 'ministro', 'relator', 'documento', '1645649', 'inteiro', 'teor', 'do', 'acórdão', 'site', 'certificado', 'dje', '17', '10', '2017página', '1', '0', 'de', '10']\n"
     ]
    }
   ],
   "source": [
    "print(lista_de_palavras)"
   ]
  },
  {
   "cell_type": "markdown",
   "metadata": {},
   "source": [
    "Uma vez que nós separamos cada palavra em um elemento de uma lista, podemos retirar as palavras com pouco conteúdo semântico, como \"ou\", \"e\" e \"do\". Para isso, temos que pegar um arquivo de fora do python, com palavras desse gênero, para usar como base. O arquivo pode ser incorporado ao nosso programa da seguinte forma: "
   ]
  },
  {
   "cell_type": "code",
   "execution_count": 28,
   "metadata": {
    "collapsed": true
   },
   "outputs": [],
   "source": [
    "with open('stopwords.txt') as f:\n",
    "    stopwords = f.read()\n",
    "    lista_de_stopwords = stopwords.split('\\n')"
   ]
  },
  {
   "cell_type": "markdown",
   "metadata": {},
   "source": [
    "Dando uma olhada na lista:"
   ]
  },
  {
   "cell_type": "code",
   "execution_count": 29,
   "metadata": {},
   "outputs": [
    {
     "name": "stdout",
     "output_type": "stream",
     "text": [
      "['de', 'a', 'o', 'que', 'e', 'do', 'da', 'em', 'um', 'para', 'é', 'com', 'não', 'uma', 'os', 'no', 'se', 'na', 'por', 'mais', 'as', 'dos', 'como', 'mas', 'foi', 'ao', 'ele', 'das', 'tem', 'à', 'seu', 'sua', 'ou', 'ser', 'quando', 'muito', 'há', 'nos', 'já', 'está', 'eu', 'também', 'só', 'pelo', 'pela', 'até', 'isso', 'ela', 'entre', 'era', 'depois', 'sem', 'mesmo', 'aos', 'ter', 'seus', 'quem', 'nas', 'me', 'esse', 'eles', 'estão', 'você', 'tinha', 'foram', 'essa', 'num', 'nem', 'suas', 'meu', 'às', 'minha', 'têm', 'numa', 'pelos', 'elas', 'havia', 'seja', 'qual', 'será', 'nós', 'tenho', 'lhe', 'deles', 'essas', 'esses', 'pelas', 'este', 'fosse', 'dele', 'tu', 'te', 'vocês', 'vos', 'lhes', 'meus', 'minhas', 'teu', 'tua', 'teus', 'tuas', 'nosso', 'nossa', 'nossos', 'nossas', 'dela', 'delas', 'esta', 'estes', 'estas', 'aquele', 'aquela', 'aqueles', 'aquelas', 'isto', 'aquilo', 'estou', 'está', 'estamos', 'estão', 'estive', 'esteve', 'estivemos', 'estiveram', 'estava', 'estávamos', 'estavam', 'estivera', 'estivéramos', 'esteja', 'estejamos', 'estejam', 'estivesse', 'estivéssemos', 'estivessem', 'estiver', 'estivermos', 'estiverem', 'hei', 'há', 'havemos', 'hão', 'houve', 'houvemos', 'houveram', 'houvera', 'houvéramos', 'haja', 'hajamos', 'hajam', 'houvesse', 'houvéssemos', 'houvessem', 'houver', 'houvermos', 'houverem', 'houverei', 'houverá', 'houveremos', 'houverão', 'houveria', 'houveríamos', 'houveriam', 'sou', 'somos', 'são', 'era', 'éramos', 'eram', 'fui', 'foi', 'fomos', 'foram', 'fora', 'fôramos', 'seja', 'sejamos', 'sejam', 'fosse', 'fôssemos', 'fossem', 'for', 'formos', 'forem', 'serei', 'será', 'seremos', 'serão', 'seria', 'seríamos', 'seriam', 'tenho', 'tem', 'temos', 'tém', 'tinha', 'tínhamos', 'tinham', 'tive', 'teve', 'tivemos', 'tiveram', 'tivera', 'tivéramos', 'tenha', 'tenhamos', 'tenham', 'tivesse', 'tivéssemos', 'tivessem', 'tiver', 'tivermos', 'tiverem', 'terei', 'terá', 'teremos', 'terão', 'teria', 'teríamos', 'teriam']\n"
     ]
    }
   ],
   "source": [
    "print(lista_de_stopwords)"
   ]
  },
  {
   "cell_type": "markdown",
   "metadata": {},
   "source": [
    "Podemos passar por cada palavra da lista do nosso texto (lista_de_palavras), verificar se ela está na lista de stopwords e, caso não esteja, colocamos ela em uma nova lista "
   ]
  },
  {
   "cell_type": "code",
   "execution_count": 30,
   "metadata": {
    "collapsed": true
   },
   "outputs": [],
   "source": [
    "nova_lista_texto = []\n",
    "\n",
    "for i in lista_de_palavras:\n",
    "    if i not in lista_de_stopwords:\n",
    "        nova_lista_texto.append(i)"
   ]
  },
  {
   "cell_type": "code",
   "execution_count": 31,
   "metadata": {},
   "outputs": [
    {
     "name": "stdout",
     "output_type": "stream",
     "text": [
      "['superior', 'tribunal', 'justiçaagint', 'agravo', 'recurso', 'especial', 'nº', '741', '519', 'df', '2015', '0166109', '5', 'relatoragravanteadvogadosagravadoadvogado', 'ministro', 'antonio', 'carlos', 'ferreira', 'esave', 'veículos', 'ltda', 'jonas', 'keslley', 'gonçalves', 'umbelino', 'df025661jecy', 'kenne', 'gonçalves', 'umbelino', 'outro', 's', 'df044340', 'ki', 'maquinas', 'industria', 'comercio', 'ltda', 'lincoln', 'oliveira', 'outro', 's', 'df007626ementaprocessual', 'civil', 'agravo', 'interno', 'agravo', 'recursoespecial', 'reintegração', 'posse', 'benfeitorias', 'indenizáveis', 'laudopericialhomologado', 'decisãodevidamentefundamentada', 'ausência', 'nulidade', 'reexame', 'conjuntofático', 'probatório', 'autos', 'inadmissibilidade', 'incidênciada', 'súmula', 'n', '7', 'stj', 'decisão', 'mantida', '1', 'inexiste', 'afronta', 'arts', '458', '535', 'cpc', '1973', 'corte', 'localpronuncia', 'forma', 'clara', 'suficiente', 'acerca', 'questões', 'suscitadasnos', 'autos', 'manifestando', 'sobre', 'todos', 'argumentos', 'tese', 'poderiam', 'infirmar', 'conclusão', 'adotada', 'juízo', '2', 'recurso', 'especial', 'comporta', 'exame', 'questões', 'impliquemrevolvimento', 'contexto', 'fático', 'probatório', 'autos', 'súmula', 'n', '7', 'stj', '3', 'caso', 'concreto', 'tribunal', 'origem', 'entendeu', 'existir', 'processonenhum', 'elemento', 'comprovasse', 'cálculos', 'perito', 'estivessemincorretos', 'razão', 'homologou', 'laudo', 'avaliação', 'benfeitoriasindenizáveis', 'alterar', 'entendimento', 'demandaria', 'reexame', 'provasproduzidas', 'autos', 'vedado', 'recurso', 'especial', '4', 'agravo', 'interno', 'nega', 'provimento', 'acórdãoa', 'quarta', 'turma', 'unanimidade', 'negou', 'provimento', 'agravo', 'interno', 'nostermos', 'voto', 'sr', 'ministro', 'relator', 'srs', 'ministros', 'marco', 'buzzi', 'lázaro', 'guimarães', 'desembargador', 'convocado', 'trf', '5ª', 'região', 'luis', 'felipe', 'salomão', 'maria', 'isabel', 'gallottivotaram', 'sr', 'ministro', 'relator', 'brasília', 'df', '10', 'outubro', '2017', 'data', 'julgamento', 'ministro', 'antonio', 'carlos', 'ferreirarelatordocumento', '1645649', 'inteiro', 'teor', 'acórdão', 'site', 'certificado', 'dje', '17', '10', '2017página', '1', '10', 'superior', 'tribunal', 'justiçaagint', 'agravo', 'recurso', 'especial', 'nº', '741', '519', 'df', '2015', '0166109', '5', 'relatoragravanteadvogadosagravadoadvogado', 'ministro', 'antonio', 'carlos', 'ferreira', 'esave', 'veículos', 'ltda', 'jonas', 'keslley', 'gonçalves', 'umbelino', 'df025661jecy', 'kenne', 'gonçalves', 'umbelino', 'outro', 's', 'df044340', 'ki', 'maquinas', 'industria', 'comercio', 'ltda', 'lincoln', 'oliveira', 'outro', 's', 'df007626relatórioo', 'exmo', 'sr', 'ministro', 'antonio', 'carlos', 'ferreira', 'relator', 'trata', 'agravo', 'interno', 'stj', 'fls', '811', '812', 'contra', 'decisão', 'desta', 'relatoria', 'mantevea', 'inadmissibilidade', 'recurso', 'especial', 'neste', 'recurso', 'agravante', 'alega', 'acórdão', 'recorrido', 'verdade', 'amparo', 'especulações', 'teóricas', 'retóricas', 'negando', 'prestação', 'jurisdicionalbuscada', 'dês', 'primeira', 'instância', 'stj', 'fl', '811', 'entende', 'trata', 'reexame', 'deprova', 'sim', 'valoração', 'prova', 'ocorreu', 'maneira', 'adequada', 'razão', 'pelaqual', 'entendimento', 'pode', 'alterado', 'violação', 'teor', 'súm', '07', 'stj', 'stj', 'fl', '812', 'reitera', 'teses', 'defendidas', 'recursos', 'anteriores', 'requerendo', 'reforma', 'dadecisão', 'homologou', 'laudo', 'avaliação', 'benfeitorias', 'área', 'particular', 'porque', 'nele', 'laudo', 'mensurações', 'benfeitorias', 'área', 'pública', 'porque', 'condenada', 'aindenizar', 'particular', 'agravada', 'benfeitorias', 'realizadas', 'área', 'pública', 'objeto', 'avaliação', 'processo', 'stj', 'fl', '811', 'final', 'pede', 'reconsideração', 'decisão', 'monocrática', 'provimento', 'dorecurso', 'remessa', 'autos', 'primeira', 'instância', 're', 'fazimento', 'avaliação', 'debenfeitorias', 'particulares', 'áreas', 'particulares', 'avaliação', 'benfeitorias', 'particularesem', 'áreas', 'públicas', 'stj', 'fl', '812', 'agravada', 'apresentou', 'impugnação', 'stj', 'fl', '816', 'relatório', 'documento', '1645649', 'inteiro', 'teor', 'acórdão', 'site', 'certificado', 'dje', '17', '10', '2017página', '2', '10', 'superior', 'tribunal', 'justiçaagint', 'agravo', 'recurso', 'especial', 'nº', '741', '519', 'df', '2015', '0166109', '5', 'relatoragravanteadvogadosagravadoadvogado', 'ministro', 'antonio', 'carlos', 'ferreira', 'esave', 'veículos', 'ltda', 'jonas', 'keslley', 'gonçalves', 'umbelino', 'df025661jecy', 'kenne', 'gonçalves', 'umbelino', 'outro', 's', 'df044340', 'ki', 'maquinas', 'industria', 'comercio', 'ltda', 'lincoln', 'oliveira', 'outro', 's', 'df007626ementaprocessual', 'civil', 'agravo', 'interno', 'agravo', 'recursoespecial', 'reintegração', 'posse', 'benfeitorias', 'indenizáveis', 'laudopericialhomologado', 'decisãodevidamentefundamentada', 'ausência', 'nulidade', 'reexame', 'conjuntofático', 'probatório', 'autos', 'inadmissibilidade', 'incidênciada', 'súmula', 'n', '7', 'stj', 'decisão', 'mantida', '1', 'inexiste', 'afronta', 'arts', '458', '535', 'cpc', '1973', 'corte', 'localpronuncia', 'forma', 'clara', 'suficiente', 'acerca', 'questões', 'suscitadasnos', 'autos', 'manifestando', 'sobre', 'todos', 'argumentos', 'tese', 'poderiam', 'infirmar', 'conclusão', 'adotada', 'juízo', '2', 'recurso', 'especial', 'comporta', 'exame', 'questões', 'impliquemrevolvimento', 'contexto', 'fático', 'probatório', 'autos', 'súmula', 'n', '7', 'stj', '3', 'caso', 'concreto', 'tribunal', 'origem', 'entendeu', 'existir', 'processonenhum', 'elemento', 'comprovasse', 'cálculos', 'perito', 'estivessemincorretos', 'razão', 'homologou', 'laudo', 'avaliação', 'benfeitoriasindenizáveis', 'alterar', 'entendimento', 'demandaria', 'reexame', 'provasproduzidas', 'autos', 'vedado', 'recurso', 'especial', '4', 'agravo', 'interno', 'nega', 'provimento', 'documento', '1645649', 'inteiro', 'teor', 'acórdão', 'site', 'certificado', 'dje', '17', '10', '2017página', '3', '10', 'superior', 'tribunal', 'justiçaagint', 'agravo', 'recurso', 'especial', 'nº', '741', '519', 'df', '2015', '0166109', '5', 'relatoragravanteadvogadosagravadoadvogado', 'ministro', 'antonio', 'carlos', 'ferreira', 'esave', 'veículos', 'ltda', 'jonas', 'keslley', 'gonçalves', 'umbelino', 'df025661jecy', 'kenne', 'gonçalves', 'umbelino', 'outro', 's', 'df044340', 'ki', 'maquinas', 'industria', 'comercio', 'ltda', 'lincoln', 'oliveira', 'outro', 's', 'df007626votoo', 'exmo', 'sr', 'ministro', 'antonio', 'carlos', 'ferreira', 'relator', 'ainsurgência', 'merece', 'acolhida', 'agravante', 'trouxe', 'nenhum', 'argumento', 'capaz', 'afastar', 'termos', 'dadecisão', 'agravada', 'motivo', 'deve', 'mantida', 'próprios', 'fundamentos', 'stjfls', '804', '808', 'trata', 'agravo', 'próprios', 'autos', 'cpc', '1973', 'art', '544', 'contra', 'decisão', 'queinadmitiu', 'recurso', 'especial', 'sob', 'seguintes', 'fundamentos', 'stj', 'fls', '746', '748', 'inexistência', 'negativa', 'prestação', 'jurisdicional', 'b', 'falta', 'comprovação', 'dodissídio', 'jurisprudencial', 'ausência', 'similitude', 'fática', 'acórdão', 'tjdft', 'traz', 'seguinte', 'ementa', 'stj', 'fl', '661', 'agravo', 'interno', 'agravo', 'instrumento', 'manifestaimprocedência', 'manutenção', 'decisão', 'agravada', 'tendo', 'ojuízo', 'esclarecido', 'acatado', 'metodologia', 'utilizada', 'perito', 'descabe', 'falarem', 'falta', 'motivação', 'nulidade', 'decisão', 'homologou', 'laudopericial', 'ademais', 'mera', 'divergência', 'insatisfação', 'quanto', 'aosesclarecimentos', 'prestados', 'perito', 'suficiente', 'impedir', 'ahomologação', 'laudo', 'fim', 'termos', 'art', '130', 'código', 'deprocesso', 'civil', 'sendo', 'juiz', 'destinatário', 'final', 'prova', 'judicial', 'tendo', 'eleentendido', 'perito', 'respondeu', 'satisfatoriamente', 'todos', 'quesitosformulados', 'tendo', 'agravantes', 'produzido', 'prova', 'cabal', 'sentidocontrário', 'motivo', 'deferir', 'pleito', 'modificação', 'julgado', 'embargos', 'declaração', 'opostos', 'rejeitados', 'stj', 'fls', '679', '684', 'razões', 'recurso', 'especial', 'stj', 'fls', '668', '720', 'interposto', 'fundamento', 'noart', '105', 'iii', 'alíneas', 'c', 'cf', 'recorrente', 'sustentou', 'além', 'dissídiojurisprudencial', 'violação', 'arts', '131', '165', '458', 'i', '535', 'ii', 'cpc', '1973', '93', 'ix', 'dacf', 'argumentando', 'acórdão', 'recorrido', 'omitido', 'sobre', 'i', 'supostaconfissão', 'expert', 'respeito', 'ausência', 'conhecimentos', 'técnicos', 'definirquais', 'benfeitorias', 'indenizáveis', 'inclusive', 'tal', 'obrigação', 'existiria', 'relaçãoàquelas', 'levantadas', 'área', 'pública', 'ii', 'razões', 'acataram', 'conclusõesdo', 'laudo', 'pericial', 'quanto', 'valores', 'benfeitorias', 'construídas', 'recorrida', 'iii', 'possível', 'descumprimento', 'diretrizes', 'abnt', 'durante', 'confecção', 'laudo', 'porausência', 'definição', 'metodologia', 'falta', 'pesquisa', 'preços', 'cálculos', 'deespecificação', 'montantes', 'finais', 'obtidos', 'nesse', 'contexto', 'requereu', 'anulação', 'acórdão', 'recorrido', 'alternativamente', 'arevaloração', 'perícia', 'rever', 'valor', 'cub', 'm²', 'limitar', 'montanteindenizatório', 'contrarrazões', 'stj', 'fls', '732', '744', 'agravo', 'stj', 'fls', '749', '779', 'afirma', 'presença', 'todos', 'requisitos', 'deadmissibilidade', 'especial', 'apresentada', 'contraminuta', 'stj', 'fls', '783', '794', 'relatório', 'documento', '1645649', 'inteiro', 'teor', 'acórdão', 'site', 'certificado', 'dje', '17', '10', '2017página', '4', '10', 'superior', 'tribunal', 'justiçadecido', 'recurso', 'especial', 'agravo', 'interpostos', 'fundamento', 'código', 'deprocesso', 'civil', '1973', 'motivo', 'devem', 'exigidos', 'requisitos', 'deadmissibilidade', 'recursal', 'forma', 'nele', 'prevista', 'interpretações', 'dadas', 'pelajurisprudência', 'desta', 'corte', 'enunciado', 'administrativo', 'n', '2', 'stj', 'inviável', 'análise', 'ofensa', 'dispositivos', 'constitucionais', 'sede', 'recursoespecial', 'sob', 'pena', 'usurpação', 'competência', 'suprema', 'corte', 'propósito', 'agravo', 'interno', 'recurso', 'especial', 'ação', 'cautelar', 'deexibição', 'documentos', 'decisão', 'monocrática', 'negandoprovimento', 'reclamo', 'insurgência', 'recursal', 'autor', '1', 'cabe', 'corte', 'sede', 'recurso', 'especial', 'examinar', 'violaçãode', 'dispositivos', 'constitucionais', 'tendo', 'vista', 'constituição', 'federalreservou', 'tal', 'competência', 'pretório', 'excelso', 'âmbito', 'recursoextraordinário', 'precedentes', '2', 'insurgente', 'rebateu', 'forma', 'específica', 'fundamentação', 'adotadapelo', 'tribunal', 'estadual', 'discrepância', 'razões', 'recursais', 'ofundamento', 'acórdão', 'recorrido', 'obsta', 'conhecimento', 'recursoespecial', 'ante', 'incidência', 'súmula', 'n', '283', 'súmula', 'n', '284', 'stf', 'precedentes', '3', 'agravo', 'interno', 'desprovido', 'agint', 'resp', 'n', '1', '542', '764', 'pr', 'relator', 'ministro', 'marco', 'buzzi', 'quartaturma', 'julgado', '15', '9', '2016', 'dje', '22', '9', '2016', 'refere', 'alegada', 'negativa', 'prestação', 'jurisdicional', 'assiste', 'razão', 'àrecorrente', 'vez', 'tribunal', 'quo', 'decidiu', 'matéria', 'controvertida', 'nãoincorrendo', 'omissão', 'contradição', 'obscuridade', 'relação', 'suposta', 'falta', 'fundamentação', 'motivos', 'quais', 'magistradode', 'primeira', 'instância', 'acatado', 'conclusões', 'laudo', 'pericial', 'valores', 'deindenização', 'benfeitorias', 'levantadas', 'recorrida', 'quanto', 'sistemáticaempregada', 'expert', 'aresto', 'recorrido', 'assentou', 'stj', 'fls', '664', '665', 'após', 'analise', 'razoes', 'agravo', 'interno', 'verifico', 'prospera', 'oinconformismo', 'recorrente', 'traz', 'argumento', 'novo', 'apto', 'infirmar', 'adecisão', 'agravada', 'razão', 'submeto', 'decisão', 'impugnada', 'aoreferendo', 'desta', 'sexta', 'turma', 'exatos', 'fundamentos', 'quaistranscrevo', 'formação', 'destes', 'custos', 'veiculados', 'requerente', 'peça', 'deimpugnação', 'unitários', 'básicos', 'considerados', 'seguintes', 'itens', 'devem', 'levados', 'conta', 'determinação', 'preços', 'metroquadrado', 'construção', 'acordo', 'estabelecido', 'projeto', 'eespecificações', 'correspondentes', 'cada', 'caso', 'particular', 'fundações', 'submuramentos', 'paredes', 'diagragma', 'tirantes', 'rebaixamento', 'lençolfreático', 'elevadores', 'equipamentos', 'instalações', 'tais', 'fogões', 'aquecedores', 'bombas', 'recalque', 'incineração', 'ar', 'condicionado', 'calefação', 'ventilação', 'exaustão', 'outros', 'playground', 'classificado', 'comoárea', 'construída', 'obras', 'serviços', 'complementares', 'urbanização', 'recreação', 'piscinas', 'campos', 'esporte', 'ajardinamento', 'instalação', 'regulamentaçãodo', 'condomínio', 'outros', 'serviços', 'impostos', 'taxas', 'emolumentos', 'cartoriais', 'projetos', 'projetos', 'arquitetônicos', 'projeto', 'estrutural', 'projeto', 'instalação', 'projetos', 'especiais', 'remuneração', 'construtor', 'remuneração', 'doincorporador', 'fls', '524', '525', 'esclareceu', 'ainda', 'digno', 'perito', 'valorindicado', 'lado', 'tomou', 'parâmetro', 'média', 'preços', 'praticadosno', 'mercado', 'ante', 'exposto', 'homologo', 'laudo', 'avaliação', 'fls', '465', '482', 'ora', 'acolhimento', 'pretensão', 'parte', 'autora', 'significa', 'falta', 'demotivação', 'tendo', 'juízo', 'esclarecido', 'acatado', 'metodologia', 'utilizada', 'pelodocumento', '1645649', 'inteiro', 'teor', 'acórdão', 'site', 'certificado', 'dje', '17', '10', '2017página', '5', '10', 'superior', 'tribunal', 'justiçaperito', 'descabe', 'falar', 'falta', 'motivação', 'nulidade', 'decisão', 'porsua', 'vez', 'impugnação', 'laudo', 'pericial', 'acompanhada', 'exclusivamente', 'planilha', 'orçamentária', 'contestação', 'qualquer', 'objeção', 'específicae', 'fundamentada', 'contra', 'manifestação', 'expert', 'judicial', 'tabela', 'decusto', 'unitário', 'básico', 'cub', 'm2', 'mês', 'maio', '2013', 'distritofederal', 'fls', '531', '537', 'nenhuma', 'comprovação', 'oscálculos', 'perito', 'incorretos', 'tão', 'somente', 'meroinconformismo', 'fundamento', 'laudo', 'apresentado', 'entende', 'essac', 'corte', 'justiça', 'mera', 'divergência', 'insatisfação', 'quanto', 'aosesclarecimentos', 'prestados', 'perito', 'suficiente', 'impedir', 'ahomologação', 'laudo', 'pericial', 'delimitação', 'quais', 'benfeitorias', 'indenizáveis', 'possível', 'descumprimentodas', 'diretrizes', 'abnt', 'durante', 'confecção', 'laudo', 'pericial', 'foramenfrentados', 'corte', 'origem', 'seguintes', 'termos', 'stj', 'fls', '667', '668', 'razões', 'recursais', 'insiste', 'agravante', 'defender', 'decisãoagravada', 'nula', 'deficiência', 'fundamentação', 'insiste', 'ematacar', 'laudo', 'pericial', 'homologado', 'juízo', 'quo', 'além', 'perito', 'quetrabalhou', 'causa', 'afirmando', 'laudo', 'obedeceu', 'regras', 'daabnt', 'perito', 'digno', 'confiança', 'porque', 'afirmado', 'serquestão', 'direito', 'definir', 'benfeitoria', 'indenizável', 'entanto', 'bem', 'consignado', 'decisão', 'agravada', 'acolhimentoda', 'pretensão', 'parte', 'autora', 'significa', 'falta', 'motivação', 'importante', 'lembrar', 'após', 'oferecimento', 'impugnação', 'laudopericial', 'ora', 'agravante', 'fls', '531', '548', 'd', 'perito', 'manifestou', 'sobre', 'aimpugnação', 'fls', '551', '552', 'mantendo', 'laudo', 'pericial', 'anteriormenteapresentado', 'justificando', 'conclusões', 'adotadas', 'referido', 'documento', 'nesse', 'sentido', 'tendo', 'juízo', 'quo', 'acatado', 'metodologia', 'utilizada', 'peloperito', 'concordado', 'conclusões', 'esclarecimentos', 'descabefalar', 'falta', 'motivação', 'nulidade', 'decisão', 'relação', 'crítica', 'endereçada', 'perito', 'laudo', 'formulado', 'corte', 'entendimento', 'consolidado', 'sentido', 'meradivergência', 'insatisfação', 'quanto', 'esclarecimentos', 'prestados', 'peloperito', 'suficiente', 'impedir', 'homologação', 'laudo', 'pericial', 'ademais', 'impugnação', 'laudo', 'pericial', 'acompanhada', 'exclusivamente', 'planilha', 'orçamentária', 'contestação', 'qualquer', 'objeção', 'específicae', 'fundamentada', 'contra', 'manifestação', 'expert', 'judicial', 'tabela', 'decusto', 'unitário', 'básico', 'cub', 'm2', 'mês', 'maio', '2013', 'distritofederal', 'fls', '531', '537', 'nenhuma', 'comprovação', 'oscálculos', 'perito', 'incorretos', 'tão', 'somente', 'meroinconformismo', 'fundamento', 'd', 'laudo', 'apresentado', 'ressalte', 'fato', 'tribunal', 'origem', 'julgar', 'contrariamente', 'interesses', 'daparte', 'caracteriza', 'nenhum', 'vícios', 'elencados', 'art', '535', 'cpc', '1973', 'tampouco', 'hipótese', 'cabimento', 'aclaratórios', 'corte', 'local', 'soberana', 'análise', 'material', 'cognitivo', 'autos', 'concluiuque', 'inexistiriam', 'vícios', 'alegados', 'parte', 'confecção', 'laudo', 'pericial', 'motivopor', 'suficiente', 'dirimir', 'controvérsia', 'conforme', 'depreende', 'dostrechos', 'citados', 'anteriormente', 'dissentir', 'tal', 'entendimento', 'imprescindível', 'reexame', 'acervofático', 'probatório', 'autos', 'previdência', 'vedada', 'instância', 'especial', 'teor', 'dasúmula', 'n', '7', 'tj', 'propósito', 'agravo', 'regimental', 'agravo', 'recurso', 'especial', 'matéria', 'constitucional', 'impossibilidadedeexame', 'nulidade', 'julgado', 'virtude', 'indeferimento', 'dedocumento', '1645649', 'inteiro', 'teor', 'acórdão', 'site', 'certificado', 'dje', '17', '10', '2017página', '6', '10', 'superior', 'tribunal', 'justiçacomplementação', 'laudo', 'pericial', 'revisão', 'súmula', 'n', '7', 'stj', 'danos', 'morais', 'estéticos', 'matéria', 'demanda', 'reexamefático', 'probatório', 'incidência', 'súmula', 'n', '7', 'desta', 'corte', 'divergência', 'jurisprudencial', 'comprovada', 'agravoregimental', 'provido', '2', 'quanto', 'pedido', 'reconhecimento', 'nulidade', 'julgado', 'emvirtude', 'indeferimento', 'complementação', 'laudo', 'pericial', 'verifica', 'rever', 'conclusão', 'tribunal', 'quo', 'quanto', 'tema', 'exigiriaa', 'reapreciação', 'conjunto', 'probatório', 'vedado', 'recursoespecial', 'ante', 'teor', 'súmula', 'n', '7', 'stj', '5', 'agravo', 'regimental', 'provido', 'agrg', 'aresp', 'n', '839', '952', 'sp', 'relator', 'ministro', 'luis', 'felipe', 'salomão', 'quarta', 'turma', 'julgado', '15', '3', '2016', 'dje', '21', '3', '2016', 'agravo', 'regimental', 'recurso', 'especial', 'execução', 'portítulo', 'extrajudicial', 'impugnação', 'adjudicação', 'imóveldado', 'garantia', '1', 'omissão', 'acórdão', 'recorrido', 'inexistência', '2', 'alegação', 'quanto', 'necessidade', 'novaavaliação', 'art', '683', 'cpc', 'conclusão', 'tribunal', 'deorigemfundadanaanálisedascircunstânciasfático', 'probatórias', 'causa', 'reexame', 'provas', 'descabimento', 'súmula', 'n', '7', 'stj', '3', 'dissídio', 'jurisprudencial', 'nãocaracterizado', '4', 'ofensa', 'dispositivos', 'constituiçãofederal', 'descabimento', '5', 'recurso', 'desprovido', '1', 'consoante', 'dispõe', 'art', '535', 'cpc', 'destinam', 'embargos', 'dedeclaração', 'expungir', 'julgado', 'eventuais', 'omissão', 'obscuridade', 'oucontradição', 'caracterizando', 'via', 'própria', 'rejulgamento', 'causa', '2', 'caso', 'verifica', 'conclusão', 'tribunal', 'origem', 'acerca', 'daobservância', 'normas', 'técnicas', 'elaboração', 'laudo', 'avaliação', 'consequentemente', 'desnecessidade', 'realização', 'nova', 'perícia', 'cpc', 'art', '683', 'decorreu', 'análise', 'circunstâncias', 'fático', 'probatórias', 'dacausa', 'cujo', 'reexame', 'vedado', 'âmbito', 'recurso', 'especial', 'ante', 'óbiceda', 'súmula', 'n', '7', 'desta', 'corte', '5', 'agravo', 'regimental', 'nega', 'provimento', 'agrg', 'resp', 'n', '1', '401', '731', 'mg', 'relator', 'ministro', 'marco', 'auréliobellizze', 'terceira', 'turma', 'julgado', '22', '9', '2015', 'dje', '9', '10', '2015', 'agravo', 'regimental', 'agravo', 'recurso', 'especial', 'recurso', 'manejado', 'sob', 'égide', 'cpc', '73', 'açãoindenizatória', 'locação', 'bem', 'móvel', 'procedência', 'alegação', 'violação', 'art', '535', '435', 'cpc', '73', 'inexistência', 'indeferimento', 'oitiva', 'audiência', 'doperito', 'judicial', 'nova', 'perícia', 'cerceamento', 'defesa', 'acórdão', 'recorrido', 'apoiado', 'premissas', 'fáticasconstantes', 'autos', 'impossibilidade', 'revisão', 'navia', 'especial', 'aplicação', 'súmula', 'n', '7', 'stj', 'agravoregimental', 'provido', '3', 'cerceamento', 'defesa', 'sustentado', 'ausência', 'realização', 'oitivado', 'perito', 'audiência', 'indeferimento', 'realização', 'nova', 'períciatécnica', 'afastado', 'juiz', 'destinatário', 'prova', 'respaldo', 'nasuficiência', 'provas', 'coligidas', 'autos', 'forma', 'revisão', 'navia', 'especial', 'obstada', 'súmula', 'n', '7', 'desta', 'corte', '4', 'agravo', 'regimental', 'provido', 'documento', '1645649', 'inteiro', 'teor', 'acórdão', 'site', 'certificado', 'dje', '17', '10', '2017página', '7', '10', 'superior', 'tribunal', 'justiça', 'agrg', 'aresp', 'n', '595', '723', 'sp', 'relator', 'ministro', 'moura', 'ribeiro', 'terceira', 'turma', 'julgado', '24', '5', '2016', 'dje', '1', '6', '2016', 'acolher', 'pedidos', 'revisão', 'valor', 'cub', 'm²', 'limitação', 'montanteindenizatório', 'necessária', 'nova', 'incursão', 'conjunto', 'fático', 'probatório', 'autos', 'aatrair', 'incidência', 'súmula', 'n', '7', 'stj', 'conhecimento', 'recurso', 'especial', 'interposto', 'fundamento', 'alínea', 'c', 'dopermissivo', 'constitucional', 'exige', 'além', 'indicação', 'dispositivo', 'legal', 'objeto', 'deinterpretação', 'divergente', 'demonstração', 'dissídio', 'mediante', 'verificação', 'dascircunstâncias', 'assemelhem', 'identifiquem', 'casos', 'confrontados', 'arealização', 'cotejo', 'analítico', 'termos', 'definidos', 'arts', '255', '§§', '1ºe', '2º', 'ristj', '541', 'parágrafo', 'único', 'cpc', '1973', 'ônus', 'quais', 'recorrente', 'nãose', 'desincumbiu', 'ante', 'exposto', 'conheço', 'agravo', 'recurso', 'especial', 'publique', 'intimem', 'início', 'ressalte', 'recorrente', 'insurgiu', 'contra', 'fundamentoda', 'decisão', 'agravada', 'inadequação', 'recurso', 'especial', 'análise', 'dispositivosconstitucionais', 'ficando', 'portanto', 'preclusa', 'respectiva', 'matéria', 'além', 'disso', 'conforme', 'exposto', 'decisão', 'agravada', 'corte', 'localpronunciou', 'forma', 'clara', 'suficiente', 'acerca', 'questões', 'suscitadas', 'autos', 'manifestando', 'sobre', 'todos', 'argumentos', 'tese', 'poderiam', 'infirmar', 'conclusãoadotada', 'juízo', 'tjdft', 'base', 'contexto', 'fático', 'probatório', 'autos', 'manteve', 'adecisão', 'homologou', 'laudo', 'pericial', 'considerar', 'impugnação', 'apresentada', 'pelaora', 'agravante', 'restringiu', 'apresentar', 'planilha', 'orçamentária', 'contestação', 'semobjeção', 'específica', 'fundamentada', 'comprovasse', 'cálculos', 'perito', 'estivessemincorretos', 'stj', 'fl', '635', 'colegiado', 'estadual', 'concluiu', 'mera', 'divergência', 'ouinsatisfação', 'quanto', 'esclarecimentos', 'prestados', 'perito', 'suficiente', 'impedira', 'homologação', 'laudo', 'pericial', 'stj', 'fl', '635', 'entender', 'modo', 'contrário', 'implicaria', 'nova', 'incursão', 'elementos', 'fatodo', 'processo', 'incabível', 'especial', 'teor', 'súmula', 'n', '7', 'stj', 'além', 'dosprecedentes', 'citados', 'decisão', 'monocrática', 'confira', 'seguinte', 'julgado', 'agravo', 'regimental', 'recurso', 'especial', 'agravo', 'instrumento', 'perícia', 'imóvel', 'laudo', 'avaliação', 'perito', 'oficial', 'nova', 'avaliação', 'desnecessidade', 'acórdão', 'fundado', 'elementos', 'fáticos', 'dosautos', 'incidência', 'súmula', 'n', '7', 'mera', 'repetição', 'argumentos', 'dorecurso', 'especial', 'razões', 'recursais', '1', 'acórdão', 'fundado', 'elementos', 'fáticos', 'firmar', 'conclusão', 'acerca', 'dadesnecessidade', 'novo', 'laudo', 'pericial', 'tribunal', 'recorrido', 'tomou', 'consideraçãoos', 'elementos', 'fáticos', 'carreados', 'autos', 'incidência', 'súmula', 'n', '07', 'stj', '2', 'ausência', 'qualquer', 'subsídio', 'capaz', 'alterá', 'los', 'deve', 'decisão', 'recorrida', 'sermantida', 'próprios', 'fundamentos', '3', 'agravo', 'regimental', 'provido', 'agrg', 'resp', '1', '170', '691', 'relator', 'ministro', 'luisfelipe', 'salomão', 'quarta', 'turma', 'julgado', '21', '3', '2013', 'dje', '26', '3', '2013', 'assim', 'prosperam', 'alegações', 'constantes', 'recurso', 'incapazes', 'dealterar', 'fundamentos', 'decisão', 'impugnada', 'documento', '1645649', 'inteiro', 'teor', 'acórdão', 'site', 'certificado', 'dje', '17', '10', '2017página', '8', '10', 'superior', 'tribunal', 'justiçadiante', 'exposto', 'nego', 'provimento', 'agravo', 'interno', 'voto', 'documento', '1645649', 'inteiro', 'teor', 'acórdão', 'site', 'certificado', 'dje', '17', '10', '2017página', '9', '10', 'superior', 'tribunal', 'justiçacertidão', 'julgamentoquarta', 'turmaagint', 'noprocesso', 'eletrônico', 'aresp', '741', '519', 'dfnúmero', 'registro', '2015', '0166109', '5números', 'origem', '00325430220148070000', '00330748820148070000', '20090110083168', '2014002032543720140020325437ags', '325430220148070000pauta', '10', '10', '2017julgado', '10', '10', '2017relatorexmo', 'sr', 'ministro', 'antonio', 'carlos', 'ferreirapresidente', 'sessãoexmo', 'sr', 'ministro', 'antonio', 'carlos', 'ferreirasubprocurador', 'geral', 'repúblicaexmo', 'sr', 'dr', 'marcelo', 'moscogliatosecretáriadra', 'teresa', 'helena', 'rocha', 'baseviautuaçãoagravanteadvogadosagravadoadvogado', 'esave', 'veículos', 'ltda', 'jonas', 'keslley', 'gonçalves', 'umbelino', 'df025661jecy', 'kenne', 'gonçalves', 'umbelino', 'outro', 's', 'df044340', 'ki', 'maquinas', 'industria', 'comercio', 'ltda', 'lincoln', 'oliveira', 'outro', 's', 'df007626assunto', 'direito', 'civil', 'coisas', 'posse', 'imissãoagravo', 'internoagravanteadvogadosagravadoadvogado', 'esave', 'veículos', 'ltda', 'jonas', 'keslley', 'gonçalves', 'umbelino', 'df025661jecy', 'kenne', 'gonçalves', 'umbelino', 'outro', 's', 'df044340', 'ki', 'maquinas', 'industria', 'comercio', 'ltda', 'lincoln', 'oliveira', 'outro', 's', 'df007626certidãocertifico', 'egrégia', 'quarta', 'turma', 'apreciar', 'processo', 'epígrafe', 'sessãorealizada', 'nesta', 'data', 'proferiu', 'seguinte', 'decisão', 'quarta', 'turma', 'unanimidade', 'negou', 'provimento', 'agravo', 'interno', 'termos', 'dovoto', 'sr', 'ministro', 'relator', 'srs', 'ministros', 'marco', 'buzzi', 'lázaro', 'guimarães', 'desembargador', 'convocado', 'trf', '5ªregião', 'luis', 'felipe', 'salomão', 'maria', 'isabel', 'gallotti', 'votaram', 'sr', 'ministro', 'relator', 'documento', '1645649', 'inteiro', 'teor', 'acórdão', 'site', 'certificado', 'dje', '17', '10', '2017página', '1', '0', '10']\n"
     ]
    }
   ],
   "source": [
    "print(nova_lista_texto)"
   ]
  },
  {
   "cell_type": "markdown",
   "metadata": {},
   "source": [
    "Agora o texto está bem mais limpo! Começamos o processo de contagem. \n",
    "Dica: Podemos usar um dicionário"
   ]
  },
  {
   "cell_type": "code",
   "execution_count": 32,
   "metadata": {
    "collapsed": true
   },
   "outputs": [],
   "source": [
    "dicionario_freq  = {}\n",
    "\n",
    "for i in nova_lista_texto:\n",
    "    if i in dicionario_freq.keys():\n",
    "        dicionario_freq[i] += 1\n",
    "    if i not in dicionario_freq.keys():\n",
    "        dicionario_freq[i] = 1"
   ]
  },
  {
   "cell_type": "code",
   "execution_count": 33,
   "metadata": {},
   "outputs": [
    {
     "data": {
      "text/plain": [
       "{'0': 1,\n",
       " '00325430220148070000': 1,\n",
       " '00330748820148070000': 1,\n",
       " '0166109': 5,\n",
       " '07': 2,\n",
       " '1': 12,\n",
       " '10': 26,\n",
       " '105': 1,\n",
       " '130': 1,\n",
       " '131': 1,\n",
       " '15': 2,\n",
       " '1645649': 10,\n",
       " '165': 1,\n",
       " '17': 10,\n",
       " '170': 1,\n",
       " '1973': 7,\n",
       " '1ºe': 1,\n",
       " '2': 9,\n",
       " '20090110083168': 1,\n",
       " '2013': 4,\n",
       " '2014002032543720140020325437ags': 1,\n",
       " '2015': 7,\n",
       " '2016': 6,\n",
       " '2017': 1,\n",
       " '2017julgado': 1,\n",
       " '2017página': 10,\n",
       " '2017relatorexmo': 1,\n",
       " '21': 2,\n",
       " '22': 2,\n",
       " '24': 1,\n",
       " '255': 1,\n",
       " '26': 1,\n",
       " '283': 1,\n",
       " '284': 1,\n",
       " '2º': 1,\n",
       " '3': 11,\n",
       " '325430220148070000pauta': 1,\n",
       " '4': 5,\n",
       " '401': 1,\n",
       " '435': 1,\n",
       " '458': 3,\n",
       " '465': 1,\n",
       " '482': 1,\n",
       " '5': 9,\n",
       " '519': 5,\n",
       " '524': 1,\n",
       " '525': 1,\n",
       " '531': 3,\n",
       " '535': 6,\n",
       " '537': 2,\n",
       " '541': 1,\n",
       " '542': 1,\n",
       " '544': 1,\n",
       " '548': 1,\n",
       " '551': 1,\n",
       " '552': 1,\n",
       " '595': 1,\n",
       " '5números': 1,\n",
       " '5ª': 1,\n",
       " '5ªregião': 1,\n",
       " '6': 2,\n",
       " '635': 2,\n",
       " '661': 1,\n",
       " '664': 1,\n",
       " '665': 1,\n",
       " '667': 1,\n",
       " '668': 2,\n",
       " '679': 1,\n",
       " '683': 2,\n",
       " '684': 1,\n",
       " '691': 1,\n",
       " '7': 16,\n",
       " '720': 1,\n",
       " '723': 1,\n",
       " '73': 2,\n",
       " '731': 1,\n",
       " '732': 1,\n",
       " '741': 5,\n",
       " '744': 1,\n",
       " '746': 1,\n",
       " '748': 1,\n",
       " '749': 1,\n",
       " '764': 1,\n",
       " '779': 1,\n",
       " '783': 1,\n",
       " '794': 1,\n",
       " '8': 1,\n",
       " '804': 1,\n",
       " '808': 1,\n",
       " '811': 3,\n",
       " '812': 3,\n",
       " '816': 1,\n",
       " '839': 1,\n",
       " '9': 5,\n",
       " '93': 1,\n",
       " '952': 1,\n",
       " 'aatrair': 1,\n",
       " 'abnt': 2,\n",
       " 'acatado': 4,\n",
       " 'acataram': 1,\n",
       " 'acerca': 5,\n",
       " 'acervofático': 1,\n",
       " 'aclaratórios': 1,\n",
       " 'acolher': 1,\n",
       " 'acolhida': 1,\n",
       " 'acolhimento': 1,\n",
       " 'acolhimentoda': 1,\n",
       " 'acompanhada': 2,\n",
       " 'acordo': 1,\n",
       " 'acórdão': 19,\n",
       " 'acórdãoa': 1,\n",
       " 'adecisão': 2,\n",
       " 'ademais': 2,\n",
       " 'adequada': 1,\n",
       " 'adjudicação': 1,\n",
       " 'administrativo': 1,\n",
       " 'adotada': 2,\n",
       " 'adotadapelo': 1,\n",
       " 'adotadas': 1,\n",
       " 'afastado': 1,\n",
       " 'afastar': 1,\n",
       " 'afirma': 1,\n",
       " 'afirmado': 1,\n",
       " 'afirmando': 1,\n",
       " 'afronta': 2,\n",
       " 'agint': 1,\n",
       " 'agravada': 8,\n",
       " 'agravante': 5,\n",
       " 'agravantes': 1,\n",
       " 'agravo': 34,\n",
       " 'agravoregimental': 2,\n",
       " 'agrg': 4,\n",
       " 'ahomologação': 2,\n",
       " 'aimpugnação': 1,\n",
       " 'ainda': 1,\n",
       " 'aindenizar': 1,\n",
       " 'ainsurgência': 1,\n",
       " 'ajardinamento': 1,\n",
       " 'alega': 1,\n",
       " 'alegada': 1,\n",
       " 'alegados': 1,\n",
       " 'alegação': 2,\n",
       " 'alegações': 1,\n",
       " 'alterado': 1,\n",
       " 'alterar': 2,\n",
       " 'alternativamente': 1,\n",
       " 'alterá': 1,\n",
       " 'além': 5,\n",
       " 'alínea': 1,\n",
       " 'alíneas': 1,\n",
       " 'amparo': 1,\n",
       " 'analise': 1,\n",
       " 'analítico': 1,\n",
       " 'ante': 5,\n",
       " 'anteriores': 1,\n",
       " 'anteriormente': 1,\n",
       " 'anteriormenteapresentado': 1,\n",
       " 'antonio': 9,\n",
       " 'anulação': 1,\n",
       " 'análise': 4,\n",
       " 'aoreferendo': 1,\n",
       " 'aosesclarecimentos': 2,\n",
       " 'aplicação': 1,\n",
       " 'apoiado': 1,\n",
       " 'apreciar': 1,\n",
       " 'apresentada': 2,\n",
       " 'apresentado': 2,\n",
       " 'apresentar': 1,\n",
       " 'apresentou': 1,\n",
       " 'apto': 1,\n",
       " 'após': 2,\n",
       " 'aquecedores': 1,\n",
       " 'ar': 1,\n",
       " 'arealização': 1,\n",
       " 'aresp': 3,\n",
       " 'aresto': 1,\n",
       " 'arevaloração': 1,\n",
       " 'argumentando': 1,\n",
       " 'argumento': 2,\n",
       " 'argumentos': 4,\n",
       " 'arquitetônicos': 1,\n",
       " 'art': 7,\n",
       " 'arts': 4,\n",
       " 'assemelhem': 1,\n",
       " 'assentou': 1,\n",
       " 'assim': 1,\n",
       " 'assiste': 1,\n",
       " 'audiência': 2,\n",
       " 'auréliobellizze': 1,\n",
       " 'ausência': 6,\n",
       " 'autor': 1,\n",
       " 'autora': 2,\n",
       " 'autos': 18,\n",
       " 'avaliação': 10,\n",
       " 'ação': 1,\n",
       " 'açãoindenizatória': 1,\n",
       " 'b': 1,\n",
       " 'base': 1,\n",
       " 'baseviautuaçãoagravanteadvogadosagravadoadvogado': 1,\n",
       " 'bem': 2,\n",
       " 'benfeitoria': 1,\n",
       " 'benfeitorias': 10,\n",
       " 'benfeitoriasindenizáveis': 2,\n",
       " 'bombas': 1,\n",
       " 'brasília': 1,\n",
       " 'buzzi': 3,\n",
       " 'básico': 2,\n",
       " 'básicos': 1,\n",
       " 'c': 2,\n",
       " 'cabal': 1,\n",
       " 'cabe': 1,\n",
       " 'cabimento': 1,\n",
       " 'cada': 1,\n",
       " 'calefação': 1,\n",
       " 'campos': 1,\n",
       " 'capaz': 2,\n",
       " 'caracteriza': 1,\n",
       " 'caracterizando': 1,\n",
       " 'carlos': 9,\n",
       " 'carreados': 1,\n",
       " 'cartoriais': 1,\n",
       " 'caso': 4,\n",
       " 'casos': 1,\n",
       " 'causa': 3,\n",
       " 'cautelar': 1,\n",
       " 'cerceamento': 2,\n",
       " 'certificado': 10,\n",
       " 'cf': 1,\n",
       " 'circunstâncias': 1,\n",
       " 'citados': 2,\n",
       " 'civil': 5,\n",
       " 'clara': 3,\n",
       " 'classificado': 1,\n",
       " 'cognitivo': 1,\n",
       " 'coisas': 1,\n",
       " 'colegiado': 1,\n",
       " 'coligidas': 1,\n",
       " 'comercio': 6,\n",
       " 'comoárea': 1,\n",
       " 'competência': 2,\n",
       " 'complementares': 1,\n",
       " 'complementação': 1,\n",
       " 'comporta': 2,\n",
       " 'comprovada': 1,\n",
       " 'comprovasse': 3,\n",
       " 'comprovação': 3,\n",
       " 'concluiu': 1,\n",
       " 'concluiuque': 1,\n",
       " 'conclusão': 6,\n",
       " 'conclusãoadotada': 1,\n",
       " 'conclusões': 3,\n",
       " 'conclusõesdo': 1,\n",
       " 'concordado': 1,\n",
       " 'concreto': 2,\n",
       " 'condenada': 1,\n",
       " 'condicionado': 1,\n",
       " 'condomínio': 1,\n",
       " 'confecção': 3,\n",
       " 'confiança': 1,\n",
       " 'confira': 1,\n",
       " 'conforme': 2,\n",
       " 'confrontados': 1,\n",
       " 'conhecimento': 2,\n",
       " 'conhecimentos': 1,\n",
       " 'conheço': 1,\n",
       " 'conjunto': 2,\n",
       " 'conjuntofático': 2,\n",
       " 'consequentemente': 1,\n",
       " 'considerados': 1,\n",
       " 'considerar': 1,\n",
       " 'consideraçãoos': 1,\n",
       " 'consignado': 1,\n",
       " 'consoante': 1,\n",
       " 'consolidado': 1,\n",
       " 'constantes': 1,\n",
       " 'constitucionais': 2,\n",
       " 'constitucional': 2,\n",
       " 'constituição': 1,\n",
       " 'constituiçãofederal': 1,\n",
       " 'construtor': 1,\n",
       " 'construção': 1,\n",
       " 'construída': 1,\n",
       " 'construídas': 1,\n",
       " 'conta': 1,\n",
       " 'contestação': 3,\n",
       " 'contexto': 4,\n",
       " 'contra': 5,\n",
       " 'contradição': 1,\n",
       " 'contraminuta': 1,\n",
       " 'contrariamente': 1,\n",
       " 'contrarrazões': 1,\n",
       " 'controvertida': 1,\n",
       " 'controvérsia': 1,\n",
       " 'contrário': 1,\n",
       " 'convocado': 2,\n",
       " 'correspondentes': 1,\n",
       " 'corte': 13,\n",
       " 'cotejo': 1,\n",
       " 'cpc': 11,\n",
       " 'crítica': 1,\n",
       " 'cub': 4,\n",
       " 'cujo': 1,\n",
       " 'custos': 1,\n",
       " 'cálculos': 4,\n",
       " 'código': 2,\n",
       " 'd': 2,\n",
       " 'daabnt': 1,\n",
       " 'dacausa': 1,\n",
       " 'dacf': 1,\n",
       " 'dadas': 1,\n",
       " 'dadecisão': 2,\n",
       " 'dadesnecessidade': 1,\n",
       " 'danos': 1,\n",
       " 'daobservância': 1,\n",
       " 'daparte': 1,\n",
       " 'dascircunstâncias': 1,\n",
       " 'dasúmula': 1,\n",
       " 'data': 2,\n",
       " 'deadmissibilidade': 2,\n",
       " 'dealterar': 1,\n",
       " 'debenfeitorias': 1,\n",
       " 'decidiu': 1,\n",
       " 'decisão': 18,\n",
       " 'decisãoagravada': 1,\n",
       " 'decisãodevidamentefundamentada': 2,\n",
       " 'declaração': 1,\n",
       " 'decorreu': 1,\n",
       " 'decusto': 2,\n",
       " 'dedeclaração': 1,\n",
       " 'dedocumento': 1,\n",
       " 'deespecificação': 1,\n",
       " 'deexibição': 1,\n",
       " 'defender': 1,\n",
       " 'defendidas': 1,\n",
       " 'deferir': 1,\n",
       " 'defesa': 2,\n",
       " 'deficiência': 1,\n",
       " 'definidos': 1,\n",
       " 'definir': 1,\n",
       " 'definirquais': 1,\n",
       " 'definição': 1,\n",
       " 'deimpugnação': 1,\n",
       " 'deindenização': 1,\n",
       " 'deinterpretação': 1,\n",
       " 'delimitação': 1,\n",
       " 'demanda': 1,\n",
       " 'demandaria': 2,\n",
       " 'demonstração': 1,\n",
       " 'demotivação': 1,\n",
       " 'deorigemfundadanaanálisedascircunstânciasfático': 1,\n",
       " 'depreende': 1,\n",
       " 'deprocesso': 2,\n",
       " 'deprova': 1,\n",
       " 'descabe': 2,\n",
       " 'descabefalar': 1,\n",
       " 'descabimento': 2,\n",
       " 'descumprimento': 1,\n",
       " 'descumprimentodas': 1,\n",
       " 'desembargador': 2,\n",
       " 'desincumbiu': 1,\n",
       " 'desnecessidade': 2,\n",
       " 'desprovido': 2,\n",
       " 'desta': 6,\n",
       " 'destes': 1,\n",
       " 'destinam': 1,\n",
       " 'destinatário': 2,\n",
       " 'determinação': 1,\n",
       " 'deve': 2,\n",
       " 'devem': 2,\n",
       " 'df': 5,\n",
       " 'df007626assunto': 1,\n",
       " 'df007626certidãocertifico': 1,\n",
       " 'df007626ementaprocessual': 2,\n",
       " 'df007626relatórioo': 1,\n",
       " 'df007626votoo': 1,\n",
       " 'df025661jecy': 6,\n",
       " 'df044340': 6,\n",
       " 'dfnúmero': 1,\n",
       " 'diagragma': 1,\n",
       " 'digno': 2,\n",
       " 'direito': 2,\n",
       " 'diretrizes': 2,\n",
       " 'dirimir': 1,\n",
       " 'discrepância': 1,\n",
       " 'dispositivo': 1,\n",
       " 'dispositivos': 3,\n",
       " 'dispositivosconstitucionais': 1,\n",
       " 'dispõe': 1,\n",
       " 'dissentir': 1,\n",
       " 'disso': 1,\n",
       " 'dissídio': 2,\n",
       " 'dissídiojurisprudencial': 1,\n",
       " 'distritofederal': 2,\n",
       " 'divergente': 1,\n",
       " 'divergência': 4,\n",
       " 'dje': 15,\n",
       " 'documento': 8,\n",
       " 'documentos': 1,\n",
       " 'dodissídio': 1,\n",
       " 'doincorporador': 1,\n",
       " 'doperito': 1,\n",
       " 'dopermissivo': 1,\n",
       " 'dorecurso': 2,\n",
       " 'dosautos': 1,\n",
       " 'dosprecedentes': 1,\n",
       " 'dostrechos': 1,\n",
       " 'dovoto': 1,\n",
       " 'dr': 1,\n",
       " 'durante': 2,\n",
       " 'dês': 1,\n",
       " 'eespecificações': 1,\n",
       " 'egrégia': 1,\n",
       " 'elaboração': 1,\n",
       " 'eleentendido': 1,\n",
       " 'elemento': 2,\n",
       " 'elementos': 4,\n",
       " 'elencados': 1,\n",
       " 'eletrônico': 1,\n",
       " 'elevadores': 1,\n",
       " 'ematacar': 1,\n",
       " 'embargos': 2,\n",
       " 'ementa': 1,\n",
       " 'emolumentos': 1,\n",
       " 'emvirtude': 1,\n",
       " 'endereçada': 1,\n",
       " 'entanto': 1,\n",
       " 'entende': 2,\n",
       " 'entender': 1,\n",
       " 'entendeu': 2,\n",
       " 'entendimento': 5,\n",
       " 'enunciado': 1,\n",
       " 'epígrafe': 1,\n",
       " 'equipamentos': 1,\n",
       " 'esave': 6,\n",
       " 'esclareceu': 1,\n",
       " 'esclarecido': 2,\n",
       " 'esclarecimentos': 3,\n",
       " 'especiais': 1,\n",
       " 'especial': 28,\n",
       " 'especulações': 1,\n",
       " 'específica': 2,\n",
       " 'específicae': 2,\n",
       " 'esporte': 1,\n",
       " 'essac': 1,\n",
       " 'estabelecido': 1,\n",
       " 'estadual': 2,\n",
       " 'estivessemincorretos': 3,\n",
       " 'estrutural': 1,\n",
       " 'estéticos': 1,\n",
       " 'eventuais': 1,\n",
       " 'exame': 2,\n",
       " 'examinar': 1,\n",
       " 'exatos': 1,\n",
       " 'exaustão': 1,\n",
       " 'excelso': 1,\n",
       " 'exclusivamente': 2,\n",
       " 'execução': 1,\n",
       " 'exige': 1,\n",
       " 'exigidos': 1,\n",
       " 'exigiriaa': 1,\n",
       " 'existir': 2,\n",
       " 'existiria': 1,\n",
       " 'exmo': 2,\n",
       " 'expert': 4,\n",
       " 'exposto': 4,\n",
       " 'expungir': 1,\n",
       " 'extrajudicial': 1,\n",
       " 'falar': 1,\n",
       " 'falarem': 1,\n",
       " 'falta': 8,\n",
       " 'fato': 1,\n",
       " 'fatodo': 1,\n",
       " 'fazimento': 1,\n",
       " 'federalreservou': 1,\n",
       " 'felipe': 3,\n",
       " 'ferreira': 6,\n",
       " 'ferreirapresidente': 1,\n",
       " 'ferreirarelatordocumento': 1,\n",
       " 'ferreirasubprocurador': 1,\n",
       " 'ficando': 1,\n",
       " 'fim': 1,\n",
       " 'finais': 1,\n",
       " 'final': 2,\n",
       " 'firmar': 1,\n",
       " 'fl': 8,\n",
       " 'fls': 15,\n",
       " 'fogões': 1,\n",
       " 'foramenfrentados': 1,\n",
       " 'forma': 6,\n",
       " 'formação': 1,\n",
       " 'formulado': 1,\n",
       " 'fundado': 2,\n",
       " 'fundamentada': 3,\n",
       " 'fundamentação': 3,\n",
       " 'fundamento': 5,\n",
       " 'fundamentoda': 1,\n",
       " 'fundamentos': 5,\n",
       " 'fundações': 1,\n",
       " 'fática': 1,\n",
       " 'fáticasconstantes': 1,\n",
       " 'fático': 5,\n",
       " 'fáticos': 3,\n",
       " 'gallotti': 1,\n",
       " 'gallottivotaram': 1,\n",
       " 'garantia': 1,\n",
       " 'geral': 1,\n",
       " 'gonçalves': 12,\n",
       " 'guimarães': 2,\n",
       " 'helena': 1,\n",
       " 'hipótese': 1,\n",
       " 'homologado': 1,\n",
       " 'homologação': 2,\n",
       " 'homologo': 1,\n",
       " 'homologou': 5,\n",
       " 'i': 2,\n",
       " 'identifiquem': 1,\n",
       " 'ii': 2,\n",
       " 'iii': 2,\n",
       " 'imissãoagravo': 1,\n",
       " 'impedir': 3,\n",
       " 'impedira': 1,\n",
       " 'implicaria': 1,\n",
       " 'impliquemrevolvimento': 2,\n",
       " 'importante': 1,\n",
       " 'impossibilidade': 1,\n",
       " 'impossibilidadedeexame': 1,\n",
       " 'impostos': 1,\n",
       " 'imprescindível': 1,\n",
       " 'impugnada': 2,\n",
       " 'impugnação': 6,\n",
       " 'imóvel': 1,\n",
       " 'imóveldado': 1,\n",
       " 'inadequação': 1,\n",
       " 'inadmissibilidade': 3,\n",
       " 'incabível': 1,\n",
       " 'incapazes': 1,\n",
       " 'incidência': 5,\n",
       " 'incidênciada': 2,\n",
       " 'incineração': 1,\n",
       " 'inclusive': 1,\n",
       " 'incorretos': 2,\n",
       " 'incursão': 2,\n",
       " 'indeferimento': 4,\n",
       " 'indenizáveis': 4,\n",
       " 'indenizável': 1,\n",
       " 'indicação': 1,\n",
       " 'industria': 6,\n",
       " 'inexiste': 2,\n",
       " 'inexistiriam': 1,\n",
       " 'inexistência': 3,\n",
       " 'infirmar': 4,\n",
       " 'insatisfação': 3,\n",
       " 'insiste': 2,\n",
       " 'instalação': 2,\n",
       " 'instalações': 1,\n",
       " 'instrumento': 2,\n",
       " 'instância': 4,\n",
       " 'insurgente': 1,\n",
       " 'insurgiu': 1,\n",
       " 'insurgência': 1,\n",
       " 'inteiro': 10,\n",
       " 'interesses': 1,\n",
       " 'interno': 12,\n",
       " 'internoagravanteadvogadosagravadoadvogado': 1,\n",
       " 'interposto': 2,\n",
       " 'interpostos': 1,\n",
       " 'interpretações': 1,\n",
       " 'intimem': 1,\n",
       " 'inviável': 1,\n",
       " 'início': 1,\n",
       " 'isabel': 2,\n",
       " 'itens': 1,\n",
       " 'ix': 1,\n",
       " 'jonas': 6,\n",
       " 'judicial': 4,\n",
       " 'juiz': 2,\n",
       " 'julgado': 10,\n",
       " 'julgamento': 1,\n",
       " 'julgamentoquarta': 1,\n",
       " 'julgar': 1,\n",
       " 'jurisdicional': 2,\n",
       " 'jurisdicionalbuscada': 1,\n",
       " 'jurisprudencial': 3,\n",
       " 'justificando': 1,\n",
       " 'justiça': 2,\n",
       " 'justiçaagint': 4,\n",
       " 'justiçacertidão': 1,\n",
       " 'justiçacomplementação': 1,\n",
       " 'justiçadecido': 1,\n",
       " 'justiçadiante': 1,\n",
       " 'justiçaperito': 1,\n",
       " 'juízo': 6,\n",
       " 'kenne': 6,\n",
       " 'keslley': 6,\n",
       " 'ki': 6,\n",
       " 'lado': 1,\n",
       " 'laudo': 28,\n",
       " 'laudopericial': 2,\n",
       " 'laudopericialhomologado': 2,\n",
       " 'legal': 1,\n",
       " 'lembrar': 1,\n",
       " 'lençolfreático': 1,\n",
       " 'levados': 1,\n",
       " 'levantadas': 2,\n",
       " 'limitar': 1,\n",
       " 'limitação': 1,\n",
       " 'lincoln': 6,\n",
       " 'local': 1,\n",
       " 'localpronuncia': 2,\n",
       " 'localpronunciou': 1,\n",
       " 'locação': 1,\n",
       " 'los': 1,\n",
       " 'ltda': 12,\n",
       " 'luis': 3,\n",
       " 'luisfelipe': 1,\n",
       " 'lázaro': 2,\n",
       " 'm2': 2,\n",
       " 'magistradode': 1,\n",
       " 'maio': 2,\n",
       " 'maneira': 1,\n",
       " 'manejado': 1,\n",
       " 'manifestaimprocedência': 1,\n",
       " 'manifestando': 3,\n",
       " 'manifestação': 2,\n",
       " 'manifestou': 1,\n",
       " 'mantendo': 1,\n",
       " 'manteve': 1,\n",
       " 'mantevea': 1,\n",
       " 'mantida': 3,\n",
       " 'manutenção': 1,\n",
       " 'maquinas': 6,\n",
       " 'marcelo': 1,\n",
       " 'marco': 4,\n",
       " 'maria': 2,\n",
       " 'material': 1,\n",
       " 'matéria': 4,\n",
       " 'mediante': 1,\n",
       " 'mensurações': 1,\n",
       " 'mera': 4,\n",
       " 'meradivergência': 1,\n",
       " 'mercado': 1,\n",
       " 'merece': 1,\n",
       " 'meroinconformismo': 2,\n",
       " 'metodologia': 4,\n",
       " 'metroquadrado': 1,\n",
       " 'mg': 1,\n",
       " 'ministro': 18,\n",
       " 'ministros': 2,\n",
       " 'modificação': 1,\n",
       " 'modo': 1,\n",
       " 'monocrática': 3,\n",
       " 'montanteindenizatório': 2,\n",
       " 'montantes': 1,\n",
       " 'morais': 1,\n",
       " 'moscogliatosecretáriadra': 1,\n",
       " 'motivação': 4,\n",
       " 'motivo': 3,\n",
       " 'motivopor': 1,\n",
       " 'motivos': 1,\n",
       " 'moura': 1,\n",
       " 'm²': 2,\n",
       " 'média': 1,\n",
       " 'mês': 2,\n",
       " 'móvel': 1,\n",
       " 'n': 23,\n",
       " 'nasuficiência': 1,\n",
       " 'navia': 2,\n",
       " 'necessidade': 1,\n",
       " 'necessária': 1,\n",
       " 'nega': 3,\n",
       " 'negando': 1,\n",
       " 'negandoprovimento': 1,\n",
       " 'negativa': 2,\n",
       " 'nego': 1,\n",
       " 'negou': 2,\n",
       " 'nele': 2,\n",
       " 'nenhum': 2,\n",
       " 'nenhuma': 2,\n",
       " 'nesse': 2,\n",
       " 'nesta': 1,\n",
       " 'neste': 1,\n",
       " 'noart': 1,\n",
       " 'noprocesso': 1,\n",
       " 'normas': 1,\n",
       " 'nostermos': 1,\n",
       " 'nova': 6,\n",
       " 'novaavaliação': 1,\n",
       " 'novo': 2,\n",
       " 'nula': 1,\n",
       " 'nulidade': 7,\n",
       " 'nº': 4,\n",
       " 'nãocaracterizado': 1,\n",
       " 'nãoincorrendo': 1,\n",
       " 'nãose': 1,\n",
       " 'obedeceu': 1,\n",
       " 'objeto': 2,\n",
       " 'objeção': 2,\n",
       " 'obras': 1,\n",
       " 'obrigação': 1,\n",
       " 'obscuridade': 2,\n",
       " 'obsta': 1,\n",
       " 'obstada': 1,\n",
       " 'obtidos': 1,\n",
       " 'ocorreu': 1,\n",
       " 'ofensa': 2,\n",
       " 'oferecimento': 1,\n",
       " 'oficial': 1,\n",
       " 'ofundamento': 1,\n",
       " 'oinconformismo': 1,\n",
       " 'oitiva': 1,\n",
       " 'oitivado': 1,\n",
       " 'ojuízo': 1,\n",
       " 'oliveira': 6,\n",
       " 'omissão': 3,\n",
       " 'omitido': 1,\n",
       " 'opostos': 1,\n",
       " 'ora': 2,\n",
       " 'origem': 6,\n",
       " 'orçamentária': 3,\n",
       " 'oscálculos': 2,\n",
       " 'oucontradição': 1,\n",
       " 'ouinsatisfação': 1,\n",
       " 'outro': 12,\n",
       " 'outros': 2,\n",
       " 'outubro': 1,\n",
       " 'paredes': 1,\n",
       " 'parte': 3,\n",
       " 'particular': 3,\n",
       " 'particulares': 2,\n",
       " 'particularesem': 1,\n",
       " 'parágrafo': 1,\n",
       " 'parâmetro': 1,\n",
       " 'pede': 1,\n",
       " 'pedido': 1,\n",
       " 'pedidos': 1,\n",
       " 'pelajurisprudência': 1,\n",
       " 'pelaora': 1,\n",
       " 'pelaqual': 1,\n",
       " 'pelodocumento': 1,\n",
       " 'peloperito': 2,\n",
       " 'pena': 1,\n",
       " 'pericial': 15,\n",
       " 'perito': 17,\n",
       " 'perícia': 4,\n",
       " 'períciatécnica': 1,\n",
       " 'pesquisa': 1,\n",
       " 'peça': 1,\n",
       " 'piscinas': 1,\n",
       " 'planilha': 3,\n",
       " 'playground': 1,\n",
       " 'pleito': 1,\n",
       " 'pode': 1,\n",
       " 'poderiam': 3,\n",
       " 'porausência': 1,\n",
       " 'porque': 3,\n",
       " 'porsua': 1,\n",
       " 'portanto': 1,\n",
       " 'portítulo': 1,\n",
       " 'posse': 3,\n",
       " 'possível': 2,\n",
       " 'pr': 1,\n",
       " 'praticadosno': 1,\n",
       " 'precedentes': 2,\n",
       " 'preclusa': 1,\n",
       " 'premissas': 1,\n",
       " 'presença': 1,\n",
       " 'prestados': 4,\n",
       " 'prestação': 3,\n",
       " 'pretensão': 2,\n",
       " 'pretório': 1,\n",
       " 'previdência': 1,\n",
       " 'prevista': 1,\n",
       " 'preços': 3,\n",
       " 'primeira': 3,\n",
       " 'probatórias': 2,\n",
       " 'probatório': 9,\n",
       " 'procedência': 1,\n",
       " 'processo': 3,\n",
       " 'processonenhum': 2,\n",
       " 'produzido': 1,\n",
       " 'proferiu': 1,\n",
       " 'projeto': 3,\n",
       " 'projetos': 3,\n",
       " 'propósito': 2,\n",
       " 'prospera': 1,\n",
       " 'prosperam': 1,\n",
       " 'prova': 4,\n",
       " 'provas': 2,\n",
       " 'provasproduzidas': 2,\n",
       " 'provido': 5,\n",
       " 'provimento': 7,\n",
       " 'própria': 1,\n",
       " 'próprios': 3,\n",
       " 'publique': 1,\n",
       " 'pública': 3,\n",
       " 'públicas': 1,\n",
       " 'quais': 3,\n",
       " 'quaistranscrevo': 1,\n",
       " 'qualquer': 3,\n",
       " 'quanto': 9,\n",
       " 'quarta': 5,\n",
       " 'quartaturma': 1,\n",
       " 'queinadmitiu': 1,\n",
       " 'quesitosformulados': 1,\n",
       " 'questões': 5,\n",
       " 'quetrabalhou': 1,\n",
       " 'quo': 4,\n",
       " 'razoes': 1,\n",
       " 'razão': 5,\n",
       " 'razões': 5,\n",
       " 're': 1,\n",
       " 'realizadas': 1,\n",
       " 'realização': 3,\n",
       " 'reapreciação': 1,\n",
       " 'rebaixamento': 1,\n",
       " 'rebateu': 1,\n",
       " 'recalque': 1,\n",
       " 'reclamo': 1,\n",
       " 'reconhecimento': 1,\n",
       " 'reconsideração': 1,\n",
       " 'recorrente': 4,\n",
       " 'recorrida': 3,\n",
       " 'recorrido': 8,\n",
       " 'recreação': 1,\n",
       " 'recursais': 3,\n",
       " 'recursal': 2,\n",
       " 'recurso': 26,\n",
       " 'recursoespecial': 5,\n",
       " 'recursoextraordinário': 1,\n",
       " 'recursos': 1,\n",
       " 'reexame': 8,\n",
       " 'reexamefático': 1,\n",
       " 'refere': 1,\n",
       " 'referido': 1,\n",
       " 'reforma': 1,\n",
       " 'regimental': 8,\n",
       " 'registro': 1,\n",
       " 'região': 1,\n",
       " 'regras': 1,\n",
       " 'regulamentaçãodo': 1,\n",
       " 'reintegração': 2,\n",
       " 'reitera': 1,\n",
       " 'rejeitados': 1,\n",
       " 'rejulgamento': 1,\n",
       " 'relator': 11,\n",
       " 'relatoragravanteadvogadosagravadoadvogado': 4,\n",
       " 'relatoria': 1,\n",
       " 'relatório': 2,\n",
       " 'relação': 2,\n",
       " 'relaçãoàquelas': 1,\n",
       " 'remessa': 1,\n",
       " 'remuneração': 2,\n",
       " 'repetição': 1,\n",
       " 'repúblicaexmo': 1,\n",
       " 'requerendo': 1,\n",
       " 'requerente': 1,\n",
       " 'requereu': 1,\n",
       " 'requisitos': 2,\n",
       " 'resp': 3,\n",
       " 'respaldo': 1,\n",
       " 'respectiva': 1,\n",
       " 'respeito': 1,\n",
       " 'respondeu': 1,\n",
       " 'ressalte': 2,\n",
       " 'restringiu': 1,\n",
       " 'retóricas': 1,\n",
       " 'rever': 2,\n",
       " 'revisão': 4,\n",
       " 'ribeiro': 1,\n",
       " 'ristj': 1,\n",
       " 'rocha': 1,\n",
       " 's': 12,\n",
       " 'salomão': 4,\n",
       " 'satisfatoriamente': 1,\n",
       " 'sede': 2,\n",
       " 'seguinte': 3,\n",
       " 'seguintes': 3,\n",
       " 'semobjeção': 1,\n",
       " 'sendo': 1,\n",
       " 'sentido': 2,\n",
       " 'sentidocontrário': 1,\n",
       " 'sermantida': 1,\n",
       " 'serquestão': 1,\n",
       " 'serviços': 2,\n",
       " 'sessãoexmo': 1,\n",
       " 'sessãorealizada': 1,\n",
       " 'sexta': 1,\n",
       " 'significa': 2,\n",
       " 'sim': 1,\n",
       " 'similitude': 1,\n",
       " 'sistemáticaempregada': 1,\n",
       " 'site': 10,\n",
       " 'sob': 3,\n",
       " 'soberana': 1,\n",
       " 'sobre': 5,\n",
       " 'somente': 2,\n",
       " 'sp': 2,\n",
       " 'sr': 9,\n",
       " 'srs': 2,\n",
       " 'stf': 1,\n",
       " 'stj': 30,\n",
       " 'stjfls': 1,\n",
       " 'submeto': 1,\n",
       " 'submuramentos': 1,\n",
       " 'subsídio': 1,\n",
       " 'suficiente': 8,\n",
       " 'superior': 10,\n",
       " 'suposta': 1,\n",
       " 'supostaconfissão': 1,\n",
       " 'suprema': 1,\n",
       " 'suscitadas': 1,\n",
       " 'suscitadasnos': 2,\n",
       " 'sustentado': 1,\n",
       " 'sustentou': 1,\n",
       " 'súm': 1,\n",
       " 'súmula': 17,\n",
       " 'tabela': 2,\n",
       " 'tais': 1,\n",
       " 'tal': 3,\n",
       " 'tampouco': 1,\n",
       " 'taxas': 1,\n",
       " 'tema': 1,\n",
       " 'tendo': 6,\n",
       " 'teor': 14,\n",
       " 'terceira': 2,\n",
       " 'teresa': 1,\n",
       " 'termos': 5,\n",
       " 'tese': 3,\n",
       " 'teses': 1,\n",
       " 'teóricas': 1,\n",
       " 'tirantes': 1,\n",
       " 'tj': 1,\n",
       " 'tjdft': 2,\n",
       " 'todos': 5,\n",
       " 'tomou': 2,\n",
       " 'trata': 3,\n",
       " 'traz': 2,\n",
       " 'trf': 2,\n",
       " 'tribunal': 19,\n",
       " 'trouxe': 1,\n",
       " 'turma': 8,\n",
       " 'turmaagint': 1,\n",
       " 'tão': 2,\n",
       " 'técnicas': 1,\n",
       " 'técnicos': 1,\n",
       " 'umbelino': 12,\n",
       " 'unanimidade': 2,\n",
       " 'unitário': 2,\n",
       " 'unitários': 1,\n",
       " 'urbanização': 1,\n",
       " 'usurpação': 1,\n",
       " 'utilizada': 3,\n",
       " 'valor': 2,\n",
       " 'valoração': 1,\n",
       " 'valores': 2,\n",
       " 'valorindicado': 1,\n",
       " 'vedada': 1,\n",
       " 'vedado': 4,\n",
       " 'veiculados': 1,\n",
       " 'ventilação': 1,\n",
       " 'verdade': 1,\n",
       " 'verifica': 2,\n",
       " 'verificação': 1,\n",
       " 'verifico': 1,\n",
       " 'vez': 2,\n",
       " 'veículos': 6,\n",
       " 'via': 1,\n",
       " 'violação': 3,\n",
       " 'violaçãode': 1,\n",
       " 'virtude': 1,\n",
       " 'vista': 1,\n",
       " 'votaram': 1,\n",
       " 'voto': 2,\n",
       " 'vícios': 2,\n",
       " '§§': 1,\n",
       " 'àrecorrente': 1,\n",
       " 'área': 4,\n",
       " 'áreas': 2,\n",
       " 'âmbito': 2,\n",
       " 'égide': 1,\n",
       " 'óbiceda': 1,\n",
       " 'ônus': 1,\n",
       " 'único': 1}"
      ]
     },
     "execution_count": 33,
     "metadata": {},
     "output_type": "execute_result"
    }
   ],
   "source": [
    "dicionario_freq"
   ]
  },
  {
   "cell_type": "code",
   "execution_count": 34,
   "metadata": {},
   "outputs": [],
   "source": [
    "freq_palavras = sorted(dicionario_freq.items(), key=lambda x: x[1])"
   ]
  },
  {
   "cell_type": "markdown",
   "metadata": {},
   "source": [
    "Por fim, vamos visualizar quais as palavras mais utilizadas no texto:"
   ]
  },
  {
   "cell_type": "code",
   "execution_count": 35,
   "metadata": {},
   "outputs": [
    {
     "data": {
      "text/plain": [
       "[('corte', 13),\n",
       " ('teor', 14),\n",
       " ('dje', 15),\n",
       " ('fls', 15),\n",
       " ('pericial', 15),\n",
       " ('7', 16),\n",
       " ('súmula', 17),\n",
       " ('perito', 17),\n",
       " ('ministro', 18),\n",
       " ('autos', 18),\n",
       " ('decisão', 18),\n",
       " ('tribunal', 19),\n",
       " ('acórdão', 19),\n",
       " ('n', 23),\n",
       " ('recurso', 26),\n",
       " ('10', 26),\n",
       " ('especial', 28),\n",
       " ('laudo', 28),\n",
       " ('stj', 30),\n",
       " ('agravo', 34)]"
      ]
     },
     "execution_count": 35,
     "metadata": {},
     "output_type": "execute_result"
    }
   ],
   "source": [
    "freq_palavras[-20:]"
   ]
  },
  {
   "cell_type": "code",
   "execution_count": 38,
   "metadata": {},
   "outputs": [],
   "source": [
    "import pandas as pd\n",
    "import matplotlib.pyplot as plt\n",
    "%matplotlib inline\n",
    "plt.style.use('ggplot')"
   ]
  },
  {
   "cell_type": "code",
   "execution_count": 45,
   "metadata": {},
   "outputs": [],
   "source": [
    "df = pd.DataFrame(freq_palavras[-20:])"
   ]
  },
  {
   "cell_type": "code",
   "execution_count": 52,
   "metadata": {},
   "outputs": [],
   "source": [
    "df.index = df[0]"
   ]
  },
  {
   "cell_type": "code",
   "execution_count": 58,
   "metadata": {},
   "outputs": [
    {
     "data": {
      "text/html": [
       "<div>\n",
       "<table border=\"1\" class=\"dataframe\">\n",
       "  <thead>\n",
       "    <tr style=\"text-align: right;\">\n",
       "      <th></th>\n",
       "      <th>1</th>\n",
       "    </tr>\n",
       "    <tr>\n",
       "      <th>0</th>\n",
       "      <th></th>\n",
       "    </tr>\n",
       "  </thead>\n",
       "  <tbody>\n",
       "    <tr>\n",
       "      <th>corte</th>\n",
       "      <td>13</td>\n",
       "    </tr>\n",
       "    <tr>\n",
       "      <th>teor</th>\n",
       "      <td>14</td>\n",
       "    </tr>\n",
       "    <tr>\n",
       "      <th>dje</th>\n",
       "      <td>15</td>\n",
       "    </tr>\n",
       "    <tr>\n",
       "      <th>fls</th>\n",
       "      <td>15</td>\n",
       "    </tr>\n",
       "    <tr>\n",
       "      <th>pericial</th>\n",
       "      <td>15</td>\n",
       "    </tr>\n",
       "    <tr>\n",
       "      <th>7</th>\n",
       "      <td>16</td>\n",
       "    </tr>\n",
       "    <tr>\n",
       "      <th>súmula</th>\n",
       "      <td>17</td>\n",
       "    </tr>\n",
       "    <tr>\n",
       "      <th>perito</th>\n",
       "      <td>17</td>\n",
       "    </tr>\n",
       "    <tr>\n",
       "      <th>ministro</th>\n",
       "      <td>18</td>\n",
       "    </tr>\n",
       "    <tr>\n",
       "      <th>autos</th>\n",
       "      <td>18</td>\n",
       "    </tr>\n",
       "    <tr>\n",
       "      <th>decisão</th>\n",
       "      <td>18</td>\n",
       "    </tr>\n",
       "    <tr>\n",
       "      <th>tribunal</th>\n",
       "      <td>19</td>\n",
       "    </tr>\n",
       "    <tr>\n",
       "      <th>acórdão</th>\n",
       "      <td>19</td>\n",
       "    </tr>\n",
       "    <tr>\n",
       "      <th>n</th>\n",
       "      <td>23</td>\n",
       "    </tr>\n",
       "    <tr>\n",
       "      <th>recurso</th>\n",
       "      <td>26</td>\n",
       "    </tr>\n",
       "    <tr>\n",
       "      <th>10</th>\n",
       "      <td>26</td>\n",
       "    </tr>\n",
       "    <tr>\n",
       "      <th>especial</th>\n",
       "      <td>28</td>\n",
       "    </tr>\n",
       "    <tr>\n",
       "      <th>laudo</th>\n",
       "      <td>28</td>\n",
       "    </tr>\n",
       "    <tr>\n",
       "      <th>stj</th>\n",
       "      <td>30</td>\n",
       "    </tr>\n",
       "    <tr>\n",
       "      <th>agravo</th>\n",
       "      <td>34</td>\n",
       "    </tr>\n",
       "  </tbody>\n",
       "</table>\n",
       "</div>"
      ],
      "text/plain": [
       "           1\n",
       "0           \n",
       "corte     13\n",
       "teor      14\n",
       "dje       15\n",
       "fls       15\n",
       "pericial  15\n",
       "7         16\n",
       "súmula    17\n",
       "perito    17\n",
       "ministro  18\n",
       "autos     18\n",
       "decisão   18\n",
       "tribunal  19\n",
       "acórdão   19\n",
       "n         23\n",
       "recurso   26\n",
       "10        26\n",
       "especial  28\n",
       "laudo     28\n",
       "stj       30\n",
       "agravo    34"
      ]
     },
     "execution_count": 58,
     "metadata": {},
     "output_type": "execute_result"
    }
   ],
   "source": [
    "df.drop([0], axis=1)"
   ]
  },
  {
   "cell_type": "code",
   "execution_count": 59,
   "metadata": {},
   "outputs": [
    {
     "data": {
      "text/plain": [
       "<matplotlib.axes._subplots.AxesSubplot at 0x7f0066816ac8>"
      ]
     },
     "execution_count": 59,
     "metadata": {},
     "output_type": "execute_result"
    },
    {
     "data": {
      "image/png": "[encoded data removed]",
      "text/plain": [
       "<matplotlib.figure.Figure at 0x7f006687ce80>"
      ]
     },
     "metadata": {},
     "output_type": "display_data"
    }
   ],
   "source": [
    "df.plot.barh()"
   ]
  },
  {
   "cell_type": "code",
   "execution_count": null,
   "metadata": {
    "collapsed": true
   },
   "outputs": [],
   "source": [
    "d"
   ]
  }
 ],
 "metadata": {
  "kernelspec": {
   "display_name": "Python 3",
   "language": "python",
   "name": "python3"
  },
  "language_info": {
   "codemirror_mode": {
    "name": "ipython",
    "version": 3
   },
   "file_extension": ".py",
   "mimetype": "text/x-python",
   "name": "python",
   "nbconvert_exporter": "python",
   "pygments_lexer": "ipython3",
   "version": "3.6.2"
  }
 },
 "nbformat": 4,
 "nbformat_minor": 2
}
